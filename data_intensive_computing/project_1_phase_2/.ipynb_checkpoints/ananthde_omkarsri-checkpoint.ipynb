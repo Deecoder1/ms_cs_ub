{
 "cells": [
  {
   "cell_type": "markdown",
   "metadata": {
    "id": "9FIZCSqVuWSb"
   },
   "source": [
    "## Phase 1"
   ]
  },
  {
   "cell_type": "markdown",
   "metadata": {
    "id": "976IIwdyuhSk"
   },
   "source": [
    "### Header\n",
    "#### Course Name: Data Intensive Computing\n",
    "#### Phase #: 1\n",
    "#### Term project name: Stocks of Energy Resources"
   ]
  },
  {
   "cell_type": "markdown",
   "metadata": {
    "id": "WlFNyBSWukkE"
   },
   "source": [
    "### Q Write down the following information: \n",
    "#### 1. Identify problems prevalent in public application domains. The issue(s) you are trying to address: This will be a 100-word abstract in the form of a problem statement.: \n",
    "Mineral and energy resources are one of the seven environmental assets considered in the System of Environmental Economic Accounting(SEEA). These are non renewable energy resources. From an economic, environmental and supply security perspective it is important to keep an eye on the rate of extraction and current availability. \n",
    "\n",
    "Stocks and flows of these commodities are complied in physical units and 3 classes are defined: commercially recoverable resources (Class A), potentially commercially recoverable resources (Class B) and non-commercial and other known deposits (Class C)\n",
    " \n",
    "We are trying to answer on how better can countries perform in preserving the natural resources reducing the discrepancies. As the future power would be with the countries having loaded stocks of mineral and energy resources.\n",
    "\n",
    "\n"
   ]
  },
  {
   "cell_type": "markdown",
   "metadata": {
    "id": "Fz4y43obuocl"
   },
   "source": [
    "#### 2. Name of your data: Mineral and Energy Resources"
   ]
  },
  {
   "cell_type": "markdown",
   "metadata": {
    "id": "0GVyBWN0utp5"
   },
   "source": [
    "#### 3. Background:\n",
    "   + Source: https://stats.oecd.org/Index.aspx?DataSetCode=NAT_RES\n",
    "   + Time Period: last updated on 26 May, 2020\n",
    "   + Scope (if there is please specified): 7 OECD Countries\n",
    "   + Data Unit: Stock values of Mineral Resource"
   ]
  },
  {
   "cell_type": "markdown",
   "metadata": {
    "id": "fRUoPbAyu2YV"
   },
   "source": [
    "#### 6 Write codes to load the data \n",
    "(recommend: pandas package: 10 mins tutorial: [10 mins tutorial](https://pandas.pydata.org/pandas-docs/stable/user_guide/10min.html#min) )"
   ]
  },
  {
   "cell_type": "code",
   "execution_count": 1,
   "metadata": {},
   "outputs": [],
   "source": [
    "import pandas as pd"
   ]
  },
  {
   "cell_type": "code",
   "execution_count": 2,
   "metadata": {},
   "outputs": [],
   "source": [
    "df = pd.read_csv('data/Energy_Resource.csv')"
   ]
  },
  {
   "cell_type": "markdown",
   "metadata": {
    "id": "qufK6cVXuwP1"
   },
   "source": [
    "#### 4 Introduction of dataset\n",
    "Answer 2 questions:\n",
    "+ How many columns? Show all the column labels. ((You can use pandas.DataFrame.columns to easily show all the labels of columns.)\n",
    "+ What are they refering to respectively? please write in table form (markdown syntax for drawing tables : [markdown tutorial with examples](https://guides.github.com/features/mastering-markdown/))"
   ]
  },
  {
   "cell_type": "code",
   "execution_count": 3,
   "metadata": {},
   "outputs": [
    {
     "data": {
      "text/plain": [
       "Index(['COUNTRY', 'Country', 'RESOURCE', 'Resource', 'SEEA',\n",
       "       'Stocks and flows', 'CLASSE', 'Class', 'YEA', 'Year', 'Unit Code',\n",
       "       'Unit', 'PowerCode Code', 'PowerCode', 'Reference Period Code',\n",
       "       'Reference Period', 'Value', 'Flag Codes', 'Flags'],\n",
       "      dtype='object')"
      ]
     },
     "execution_count": 3,
     "metadata": {},
     "output_type": "execute_result"
    }
   ],
   "source": [
    "df.columns"
   ]
  },
  {
   "cell_type": "markdown",
   "metadata": {},
   "source": [
    "Column Name | Significance\n",
    "------------ | -------------\n",
    "COUNTRY | NA\n",
    "Country | 7 OECD countries\n",
    "RESOURCE | NA\n",
    "Resource | Mineral and Energy Resource\n",
    "SEEA | NA\n",
    "Stocks and flows | Flow of the stock over the year\n",
    "CLASSE | A or B or C (As in answer 1)\n",
    "Class | NA\n",
    "YEA | NA\n",
    "Year | Year \n",
    "Unit Code | NA\n",
    "Unit |  Unit of Stock\n",
    "PowerCode Code | NA\n",
    "PowerCode | Quantity of Stock\n",
    "Reference Period Code | NA\n",
    "Reference Period | NA\n",
    "Value | Value of Stock\n",
    "Flag Codes |  NA\n",
    "Flags | NA"
   ]
  },
  {
   "cell_type": "markdown",
   "metadata": {
    "id": "iEmT1NQJuzf9"
   },
   "source": [
    "#### 5 Hypothesis and conclusion\n",
    " What hypothesis or conclusion do you want to study from the data?  (Remember this relative to your future phases of task)\n",
    " \n",
    " As we know that economic progress is directly proportional to the Extraction and usage of Mineral and Energy resources. We would like to give a heads up on the discoveries and extractions of stock available in the 7 OECD countries."
   ]
  },
  {
   "cell_type": "markdown",
   "metadata": {
    "id": "pZhUDBoFu58q"
   },
   "source": [
    "#### 7 IDA (Initial Data Analysis) \n",
    "[reference to do IDA](https://www.sciencedirect.com/science/article/pii/S0022522315017948)  \\\\\n",
    "Please specify what you've done (text and code) for each operation (at least 10 operations). If some steps will produce a picture, please show this picture\n"
   ]
  },
  {
   "cell_type": "markdown",
   "metadata": {
    "id": "4ngFlilwu8RO"
   },
   "source": [
    "##### 1 We shall drop the columns that are redundant i.e., we have columns that specify the Column code which is not required for our analysis"
   ]
  },
  {
   "cell_type": "code",
   "execution_count": 4,
   "metadata": {
    "id": "nK6TznoEvC_k"
   },
   "outputs": [],
   "source": [
    "df  = df.drop(columns = ['COUNTRY','RESOURCE','SEEA','Class','YEA','Unit Code','PowerCode Code'])"
   ]
  },
  {
   "cell_type": "markdown",
   "metadata": {
    "id": "nQyLIVILvGPR"
   },
   "source": [
    "#### 2 We shall drop the columns for which the data is not recorded at all"
   ]
  },
  {
   "cell_type": "code",
   "execution_count": 5,
   "metadata": {},
   "outputs": [
    {
     "data": {
      "text/plain": [
       "Index(['Country', 'Resource', 'Stocks and flows', 'CLASSE', 'Year', 'Unit',\n",
       "       'PowerCode', 'Reference Period Code', 'Reference Period', 'Value',\n",
       "       'Flag Codes', 'Flags'],\n",
       "      dtype='object')"
      ]
     },
     "execution_count": 5,
     "metadata": {},
     "output_type": "execute_result"
    }
   ],
   "source": [
    "df.columns"
   ]
  },
  {
   "cell_type": "code",
   "execution_count": 6,
   "metadata": {},
   "outputs": [
    {
     "data": {
      "text/plain": [
       "Country                  False\n",
       "Resource                 False\n",
       "Stocks and flows         False\n",
       "CLASSE                   False\n",
       "Year                     False\n",
       "Unit                      True\n",
       "PowerCode                False\n",
       "Reference Period Code     True\n",
       "Reference Period          True\n",
       "Value                    False\n",
       "Flag Codes                True\n",
       "Flags                     True\n",
       "dtype: bool"
      ]
     },
     "execution_count": 6,
     "metadata": {},
     "output_type": "execute_result"
    }
   ],
   "source": [
    "df.isnull().any()"
   ]
  },
  {
   "cell_type": "markdown",
   "metadata": {},
   "source": [
    "Hence we can drop all the columns that have all null values"
   ]
  },
  {
   "cell_type": "code",
   "execution_count": 7,
   "metadata": {
    "id": "tPRrnRtavIBk"
   },
   "outputs": [],
   "source": [
    "df = df.drop(columns = ['Reference Period Code', 'Reference Period', 'Flag Codes', 'Flags'])\n"
   ]
  },
  {
   "cell_type": "markdown",
   "metadata": {
    "id": "-7Hf_rtIvJmr"
   },
   "source": [
    "#### 3 Now let us filter out some of the resource types from the actual data.\n",
    "#### For that first lets find out what all types of Resources are  present in the Resource column"
   ]
  },
  {
   "cell_type": "code",
   "execution_count": 8,
   "metadata": {
    "id": "5u-Z5UNQvKof"
   },
   "outputs": [
    {
     "data": {
      "text/plain": [
       "['Crude oil',\n",
       " 'Natural gas',\n",
       " 'Hard coal',\n",
       " 'Brown coal',\n",
       " 'Iron-Ore',\n",
       " 'Copper',\n",
       " 'Zinc',\n",
       " 'Lead',\n",
       " 'Nickel',\n",
       " 'Gold',\n",
       " 'Silver',\n",
       " 'Bauxite',\n",
       " 'Tin',\n",
       " 'Phosphate',\n",
       " 'Coal']"
      ]
     },
     "execution_count": 8,
     "metadata": {},
     "output_type": "execute_result"
    }
   ],
   "source": [
    "col_list = []\n",
    "for index, rows in df.iterrows():\n",
    "    if rows[1] not in col_list:\n",
    "        col_list.append(rows[1])\n",
    "col_list"
   ]
  },
  {
   "cell_type": "markdown",
   "metadata": {
    "id": "iSgC-KbwvMOn"
   },
   "source": [
    "#### 4 Then get the count of each type of resource"
   ]
  },
  {
   "cell_type": "code",
   "execution_count": 9,
   "metadata": {
    "id": "Sjmp3Xq6vOa3",
    "scrolled": false
   },
   "outputs": [
    {
     "name": "stdout",
     "output_type": "stream",
     "text": [
      "4628\n",
      "Bauxite 160\n",
      "Brown coal 147\n",
      "Coal 97\n",
      "Copper 285\n",
      "Crude oil 964\n",
      "Gold 285\n",
      "Hard coal 145\n",
      "Iron-Ore 285\n",
      "Lead 285\n",
      "Natural gas 914\n",
      "Nickel 223\n",
      "Phosphate 166\n",
      "Silver 268\n",
      "Tin 119\n",
      "Zinc 285\n"
     ]
    }
   ],
   "source": [
    "count = 0\n",
    "dicto = {}\n",
    "for index , rows  in df.iterrows():\n",
    "    for i in  ['Crude oil',\n",
    " 'Natural gas',\n",
    " 'Hard coal',\n",
    " 'Brown coal',\n",
    " 'Iron-Ore',\n",
    " 'Copper',\n",
    " 'Zinc',\n",
    " 'Lead',\n",
    " 'Nickel',\n",
    " 'Gold',\n",
    " 'Silver',\n",
    " 'Bauxite',\n",
    " 'Tin',\n",
    " 'Phosphate',\n",
    " 'Coal']:\n",
    "        if rows[1] == i:\n",
    "            if i not in dicto:\n",
    "                dicto[i] = 1\n",
    "                count+=1\n",
    "                break\n",
    "            else:\n",
    "                dicto[i]+=1\n",
    "                count+=1\n",
    "                break\n",
    "        \n",
    "print(count)\n",
    "for i in sorted(dicto):\n",
    "    print(i, dicto[i])\n"
   ]
  },
  {
   "cell_type": "markdown",
   "metadata": {},
   "source": [
    "#### 5 Visualising the outlier Resource types using yearly data point plots."
   ]
  },
  {
   "cell_type": "code",
   "execution_count": 10,
   "metadata": {},
   "outputs": [
    {
     "data": {
      "image/png": "[encoded data removed]",
      "text/plain": [
       "<Figure size 432x288 with 3 Axes>"
      ]
     },
     "metadata": {
      "needs_background": "light"
     },
     "output_type": "display_data"
    }
   ],
   "source": [
    "Coal_Year_dict = {}\n",
    "for index,rows in df.iterrows():\n",
    "    if rows[1] == 'Coal':\n",
    "        if rows[4] not in Coal_Year_dict:\n",
    "            Coal_Year_dict[rows[4]] = 1\n",
    "        else:\n",
    "            Coal_Year_dict[rows[4]] += 1\n",
    "    \n",
    "Crude_Year_dict = {}\n",
    "for index,rows in df.iterrows():\n",
    "    if rows[1] == 'Crude oil':\n",
    "        if rows[4] not in Crude_Year_dict:\n",
    "            Crude_Year_dict[rows[4]] = 1\n",
    "        else:\n",
    "            Crude_Year_dict[rows[4]] += 1\n",
    "            \n",
    "Tin_Year_dict = {}\n",
    "for index,rows in df.iterrows():\n",
    "    if rows[1] == 'Tin':\n",
    "        if rows[4] not in Tin_Year_dict:\n",
    "            Tin_Year_dict[rows[4]] = 1\n",
    "        else:\n",
    "            Tin_Year_dict[rows[4]] += 1\n",
    "\n",
    "from matplotlib import pyplot as plt\n",
    "\n",
    "fig, (ax1, ax2, ax3) = plt.subplots(1, 3)\n",
    "# fig.suptitle('Horizontally stacked subplots')\n",
    "\n",
    "ax1.plot(list(Crude_Year_dict.keys())[0:-1], list(Crude_Year_dict.values())[0:-1])\n",
    "ax2.plot(list(Coal_Year_dict.keys())[0:-1], list(Coal_Year_dict.values())[0:-1])\n",
    "ax3.plot(list(Tin_Year_dict.keys())[0:-1], list(Tin_Year_dict.values())[0:-1])\n",
    "\n",
    "#pyplot.bar(Coal_Year_dict.keys(), Coal_Year_dict.values(), color='g')\n",
    "#pyplot.bar(Crude_Year_dict.keys(), Crude_Year_dict.values(), color='r')\n",
    "plt.show()\n",
    "        "
   ]
  },
  {
   "cell_type": "markdown",
   "metadata": {
    "id": "eOM-ypmgvPnU"
   },
   "source": [
    "#### 6 We shall then filter out the ['Bauxite' ,'Brown coal', 'Coal', 'Hard coal', 'Tin', 'Phosphate'] resources. Because, we can see compared to Crude Oil has around 50 values for each years data whereas the filtered lists have less than 10 values."
   ]
  },
  {
   "cell_type": "code",
   "execution_count": 32,
   "metadata": {},
   "outputs": [
    {
     "data": {
      "text/plain": [
       "Index(['Country', 'Resource', 'Stocks and flows', 'CLASSE', 'Year', 'Unit',\n",
       "       'PowerCode', 'Value'],\n",
       "      dtype='object')"
      ]
     },
     "execution_count": 32,
     "metadata": {},
     "output_type": "execute_result"
    }
   ],
   "source": [
    "df.columns"
   ]
  },
  {
   "cell_type": "code",
   "execution_count": 33,
   "metadata": {
    "id": "eLQQUYlyvROd"
   },
   "outputs": [
    {
     "name": "stdout",
     "output_type": "stream",
     "text": [
      "1000\n",
      "2000\n",
      "3000\n",
      "3794 4628 3794\n"
     ]
    },
    {
     "data": {
      "text/html": [
       "<div>\n",
       "<style scoped>\n",
       "    .dataframe tbody tr th:only-of-type {\n",
       "        vertical-align: middle;\n",
       "    }\n",
       "\n",
       "    .dataframe tbody tr th {\n",
       "        vertical-align: top;\n",
       "    }\n",
       "\n",
       "    .dataframe thead th {\n",
       "        text-align: right;\n",
       "    }\n",
       "</style>\n",
       "<table border=\"1\" class=\"dataframe\">\n",
       "  <thead>\n",
       "    <tr style=\"text-align: right;\">\n",
       "      <th></th>\n",
       "      <th>Value</th>\n",
       "    </tr>\n",
       "  </thead>\n",
       "  <tbody>\n",
       "    <tr>\n",
       "      <th>count</th>\n",
       "      <td>3794.000000</td>\n",
       "    </tr>\n",
       "    <tr>\n",
       "      <th>mean</th>\n",
       "      <td>383.634699</td>\n",
       "    </tr>\n",
       "    <tr>\n",
       "      <th>std</th>\n",
       "      <td>1269.838165</td>\n",
       "    </tr>\n",
       "    <tr>\n",
       "      <th>min</th>\n",
       "      <td>-2642.000000</td>\n",
       "    </tr>\n",
       "    <tr>\n",
       "      <th>25%</th>\n",
       "      <td>0.429000</td>\n",
       "    </tr>\n",
       "    <tr>\n",
       "      <th>50%</th>\n",
       "      <td>3.773000</td>\n",
       "    </tr>\n",
       "    <tr>\n",
       "      <th>75%</th>\n",
       "      <td>71.375000</td>\n",
       "    </tr>\n",
       "    <tr>\n",
       "      <th>max</th>\n",
       "      <td>13446.931000</td>\n",
       "    </tr>\n",
       "  </tbody>\n",
       "</table>\n",
       "</div>"
      ],
      "text/plain": [
       "              Value\n",
       "count   3794.000000\n",
       "mean     383.634699\n",
       "std     1269.838165\n",
       "min    -2642.000000\n",
       "25%        0.429000\n",
       "50%        3.773000\n",
       "75%       71.375000\n",
       "max    13446.931000"
      ]
     },
     "execution_count": 33,
     "metadata": {},
     "output_type": "execute_result"
    }
   ],
   "source": [
    "df2 = pd.DataFrame(columns= ['Country', 'Resource', 'Stocks and flows', 'CLASSE', 'Year', 'Unit',\n",
    "       'PowerCode', 'Value'] )\n",
    "count = 0\n",
    "for index, rows in df.iterrows():\n",
    "    if rows[1] not in ['Bauxite' ,'Brown coal', 'Coal', 'Hard coal', 'Tin', 'Phosphate']:\n",
    "        count+=1\n",
    "        df2.loc[len(df2.index)] = rows\n",
    "        if count%1000 == 0:\n",
    "            print(count)\n",
    "print(len(df2), len(df), count)\n",
    "df2.describe()"
   ]
  },
  {
   "cell_type": "code",
   "execution_count": 34,
   "metadata": {},
   "outputs": [
    {
     "name": "stdout",
     "output_type": "stream",
     "text": [
      "0\n"
     ]
    }
   ],
   "source": [
    "count =0 \n",
    "for index, rows in df2.iterrows():\n",
    "    if rows[1] in ['Bauxite' ,'Brown coal', 'Coal', 'Hard coal', 'Tin', 'Phosphate']:\n",
    "        count+=1\n",
    "print(count)"
   ]
  },
  {
   "cell_type": "markdown",
   "metadata": {
    "id": "qHgqrXBOvSUW"
   },
   "source": [
    "#### 7 Check if there are any null values"
   ]
  },
  {
   "cell_type": "code",
   "execution_count": 35,
   "metadata": {
    "id": "eIgTXat0vT6r",
    "scrolled": true
   },
   "outputs": [
    {
     "data": {
      "text/plain": [
       "False"
      ]
     },
     "execution_count": 35,
     "metadata": {},
     "output_type": "execute_result"
    }
   ],
   "source": [
    "df2.isnull().values.any()"
   ]
  },
  {
   "cell_type": "markdown",
   "metadata": {
    "id": "762KLaUCvXBj"
   },
   "source": [
    "#### 8 Analyzing the data for presence of any outliers using Scatter plot"
   ]
  },
  {
   "cell_type": "code",
   "execution_count": 36,
   "metadata": {
    "id": "LhGcYn-vvZ6I"
   },
   "outputs": [
    {
     "data": {
      "text/plain": [
       "<AxesSubplot:xlabel='Year', ylabel='Value'>"
      ]
     },
     "execution_count": 36,
     "metadata": {},
     "output_type": "execute_result"
    },
    {
     "data": {
      "image/png": "[encoded data removed]",
      "text/plain": [
       "<Figure size 432x288 with 1 Axes>"
      ]
     },
     "metadata": {
      "needs_background": "light"
     },
     "output_type": "display_data"
    }
   ],
   "source": [
    "import seaborn as sns\n",
    "#sns.scatterplot(data = df2, x= 'Year', y = 'Value')\n",
    "sns.stripplot(data = df2, x='Year', y = 'Value', order = range(2000,2019))\n"
   ]
  },
  {
   "cell_type": "markdown",
   "metadata": {},
   "source": [
    "As we can see there are no serious outliers, the lower band represents the descripencies which are very usually smaller and the higher band represents the Opening and closing stocks which are generally larger than the descrepencies and grow over years."
   ]
  },
  {
   "cell_type": "markdown",
   "metadata": {
    "id": "i5vFIJD3va2p"
   },
   "source": [
    "#### 9 Sorting the DataFrame by the column \"Resource\" , to make future analysis easy as we dont need to treverse through whole data frame to filter on Resource column."
   ]
  },
  {
   "cell_type": "code",
   "execution_count": 38,
   "metadata": {
    "id": "py3OFpVivcXv"
   },
   "outputs": [
    {
     "data": {
      "text/html": [
       "<div>\n",
       "<style scoped>\n",
       "    .dataframe tbody tr th:only-of-type {\n",
       "        vertical-align: middle;\n",
       "    }\n",
       "\n",
       "    .dataframe tbody tr th {\n",
       "        vertical-align: top;\n",
       "    }\n",
       "\n",
       "    .dataframe thead th {\n",
       "        text-align: right;\n",
       "    }\n",
       "</style>\n",
       "<table border=\"1\" class=\"dataframe\">\n",
       "  <thead>\n",
       "    <tr style=\"text-align: right;\">\n",
       "      <th></th>\n",
       "      <th>Country</th>\n",
       "      <th>Resource</th>\n",
       "      <th>Stocks and flows</th>\n",
       "      <th>CLASSE</th>\n",
       "      <th>Year</th>\n",
       "      <th>Unit</th>\n",
       "      <th>PowerCode</th>\n",
       "      <th>Value</th>\n",
       "    </tr>\n",
       "  </thead>\n",
       "  <tbody>\n",
       "    <tr>\n",
       "      <th>2544</th>\n",
       "      <td>Australia</td>\n",
       "      <td>Copper</td>\n",
       "      <td>Opening stock</td>\n",
       "      <td>AB</td>\n",
       "      <td>2003</td>\n",
       "      <td>Tonnes</td>\n",
       "      <td>Millions</td>\n",
       "      <td>32.50</td>\n",
       "    </tr>\n",
       "    <tr>\n",
       "      <th>1734</th>\n",
       "      <td>United States</td>\n",
       "      <td>Copper</td>\n",
       "      <td>Extractions</td>\n",
       "      <td>A</td>\n",
       "      <td>2000</td>\n",
       "      <td>Tonnes</td>\n",
       "      <td>Millions</td>\n",
       "      <td>1.44</td>\n",
       "    </tr>\n",
       "    <tr>\n",
       "      <th>1735</th>\n",
       "      <td>United States</td>\n",
       "      <td>Copper</td>\n",
       "      <td>Extractions</td>\n",
       "      <td>A</td>\n",
       "      <td>2001</td>\n",
       "      <td>Tonnes</td>\n",
       "      <td>Millions</td>\n",
       "      <td>1.34</td>\n",
       "    </tr>\n",
       "    <tr>\n",
       "      <th>1736</th>\n",
       "      <td>United States</td>\n",
       "      <td>Copper</td>\n",
       "      <td>Extractions</td>\n",
       "      <td>A</td>\n",
       "      <td>2002</td>\n",
       "      <td>Tonnes</td>\n",
       "      <td>Millions</td>\n",
       "      <td>1.14</td>\n",
       "    </tr>\n",
       "    <tr>\n",
       "      <th>1737</th>\n",
       "      <td>United States</td>\n",
       "      <td>Copper</td>\n",
       "      <td>Extractions</td>\n",
       "      <td>A</td>\n",
       "      <td>2003</td>\n",
       "      <td>Tonnes</td>\n",
       "      <td>Millions</td>\n",
       "      <td>1.12</td>\n",
       "    </tr>\n",
       "  </tbody>\n",
       "</table>\n",
       "</div>"
      ],
      "text/plain": [
       "            Country Resource Stocks and flows CLASSE  Year    Unit PowerCode  \\\n",
       "2544      Australia   Copper    Opening stock     AB  2003  Tonnes  Millions   \n",
       "1734  United States   Copper      Extractions      A  2000  Tonnes  Millions   \n",
       "1735  United States   Copper      Extractions      A  2001  Tonnes  Millions   \n",
       "1736  United States   Copper      Extractions      A  2002  Tonnes  Millions   \n",
       "1737  United States   Copper      Extractions      A  2003  Tonnes  Millions   \n",
       "\n",
       "      Value  \n",
       "2544  32.50  \n",
       "1734   1.44  \n",
       "1735   1.34  \n",
       "1736   1.14  \n",
       "1737   1.12  "
      ]
     },
     "execution_count": 38,
     "metadata": {},
     "output_type": "execute_result"
    }
   ],
   "source": [
    "df2 = df2.sort_values(by=['Resource'])\n",
    "data_top = df2.head()\n",
    "data_top"
   ]
  },
  {
   "cell_type": "markdown",
   "metadata": {
    "id": "cBUb2I6Lvfjg"
   },
   "source": [
    "#### 10 Describing the Data Frame"
   ]
  },
  {
   "cell_type": "code",
   "execution_count": 42,
   "metadata": {
    "id": "A3vS-v54vhZG"
   },
   "outputs": [
    {
     "data": {
      "text/html": [
       "<div>\n",
       "<style scoped>\n",
       "    .dataframe tbody tr th:only-of-type {\n",
       "        vertical-align: middle;\n",
       "    }\n",
       "\n",
       "    .dataframe tbody tr th {\n",
       "        vertical-align: top;\n",
       "    }\n",
       "\n",
       "    .dataframe thead th {\n",
       "        text-align: right;\n",
       "    }\n",
       "</style>\n",
       "<table border=\"1\" class=\"dataframe\">\n",
       "  <thead>\n",
       "    <tr style=\"text-align: right;\">\n",
       "      <th></th>\n",
       "      <th>Value</th>\n",
       "    </tr>\n",
       "  </thead>\n",
       "  <tbody>\n",
       "    <tr>\n",
       "      <th>count</th>\n",
       "      <td>3794.000000</td>\n",
       "    </tr>\n",
       "    <tr>\n",
       "      <th>mean</th>\n",
       "      <td>383.634699</td>\n",
       "    </tr>\n",
       "    <tr>\n",
       "      <th>std</th>\n",
       "      <td>1269.838165</td>\n",
       "    </tr>\n",
       "    <tr>\n",
       "      <th>min</th>\n",
       "      <td>-2642.000000</td>\n",
       "    </tr>\n",
       "    <tr>\n",
       "      <th>25%</th>\n",
       "      <td>0.429000</td>\n",
       "    </tr>\n",
       "    <tr>\n",
       "      <th>50%</th>\n",
       "      <td>3.773000</td>\n",
       "    </tr>\n",
       "    <tr>\n",
       "      <th>75%</th>\n",
       "      <td>71.375000</td>\n",
       "    </tr>\n",
       "    <tr>\n",
       "      <th>max</th>\n",
       "      <td>13446.931000</td>\n",
       "    </tr>\n",
       "  </tbody>\n",
       "</table>\n",
       "</div>"
      ],
      "text/plain": [
       "              Value\n",
       "count   3794.000000\n",
       "mean     383.634699\n",
       "std     1269.838165\n",
       "min    -2642.000000\n",
       "25%        0.429000\n",
       "50%        3.773000\n",
       "75%       71.375000\n",
       "max    13446.931000"
      ]
     },
     "execution_count": 42,
     "metadata": {},
     "output_type": "execute_result"
    }
   ],
   "source": [
    "df2.describe()"
   ]
  },
  {
   "cell_type": "markdown",
   "metadata": {
    "id": "9auudH5MviFg"
   },
   "source": [
    "##### Writing the resulting data frame to a CSV file for future usage"
   ]
  },
  {
   "cell_type": "code",
   "execution_count": 43,
   "metadata": {},
   "outputs": [],
   "source": [
    "df2.to_csv(r'DataSetAfterIDA.csv',index=False)"
   ]
  },
  {
   "cell_type": "markdown",
   "metadata": {
    "id": "LKHINRLLvohC"
   },
   "source": [
    "8. (option)Remeber to save your dataSet after processing for future usage:\n",
    "    \n"
   ]
  },
  {
   "cell_type": "code",
   "execution_count": 44,
   "metadata": {
    "scrolled": false
   },
   "outputs": [
    {
     "data": {
      "text/html": [
       "<div>\n",
       "<style scoped>\n",
       "    .dataframe tbody tr th:only-of-type {\n",
       "        vertical-align: middle;\n",
       "    }\n",
       "\n",
       "    .dataframe tbody tr th {\n",
       "        vertical-align: top;\n",
       "    }\n",
       "\n",
       "    .dataframe thead th {\n",
       "        text-align: right;\n",
       "    }\n",
       "</style>\n",
       "<table border=\"1\" class=\"dataframe\">\n",
       "  <thead>\n",
       "    <tr style=\"text-align: right;\">\n",
       "      <th></th>\n",
       "      <th>Year</th>\n",
       "      <th>Value</th>\n",
       "    </tr>\n",
       "  </thead>\n",
       "  <tbody>\n",
       "    <tr>\n",
       "      <th>count</th>\n",
       "      <td>3794.000000</td>\n",
       "      <td>3794.000000</td>\n",
       "    </tr>\n",
       "    <tr>\n",
       "      <th>mean</th>\n",
       "      <td>2009.248287</td>\n",
       "      <td>383.634699</td>\n",
       "    </tr>\n",
       "    <tr>\n",
       "      <th>std</th>\n",
       "      <td>5.534688</td>\n",
       "      <td>1269.838165</td>\n",
       "    </tr>\n",
       "    <tr>\n",
       "      <th>min</th>\n",
       "      <td>2000.000000</td>\n",
       "      <td>-2642.000000</td>\n",
       "    </tr>\n",
       "    <tr>\n",
       "      <th>25%</th>\n",
       "      <td>2004.000000</td>\n",
       "      <td>0.429000</td>\n",
       "    </tr>\n",
       "    <tr>\n",
       "      <th>50%</th>\n",
       "      <td>2009.000000</td>\n",
       "      <td>3.773000</td>\n",
       "    </tr>\n",
       "    <tr>\n",
       "      <th>75%</th>\n",
       "      <td>2014.000000</td>\n",
       "      <td>71.375000</td>\n",
       "    </tr>\n",
       "    <tr>\n",
       "      <th>max</th>\n",
       "      <td>2019.000000</td>\n",
       "      <td>13446.931000</td>\n",
       "    </tr>\n",
       "  </tbody>\n",
       "</table>\n",
       "</div>"
      ],
      "text/plain": [
       "              Year         Value\n",
       "count  3794.000000   3794.000000\n",
       "mean   2009.248287    383.634699\n",
       "std       5.534688   1269.838165\n",
       "min    2000.000000  -2642.000000\n",
       "25%    2004.000000      0.429000\n",
       "50%    2009.000000      3.773000\n",
       "75%    2014.000000     71.375000\n",
       "max    2019.000000  13446.931000"
      ]
     },
     "execution_count": 44,
     "metadata": {},
     "output_type": "execute_result"
    }
   ],
   "source": [
    "df_after_ida = pd.read_csv('DataSetAfterIDA.csv')\n",
    "df_after_ida.describe()"
   ]
  },
  {
   "cell_type": "code",
   "execution_count": 45,
   "metadata": {
    "scrolled": true
   },
   "outputs": [
    {
     "data": {
      "text/html": [
       "<div>\n",
       "<style scoped>\n",
       "    .dataframe tbody tr th:only-of-type {\n",
       "        vertical-align: middle;\n",
       "    }\n",
       "\n",
       "    .dataframe tbody tr th {\n",
       "        vertical-align: top;\n",
       "    }\n",
       "\n",
       "    .dataframe thead th {\n",
       "        text-align: right;\n",
       "    }\n",
       "</style>\n",
       "<table border=\"1\" class=\"dataframe\">\n",
       "  <thead>\n",
       "    <tr style=\"text-align: right;\">\n",
       "      <th></th>\n",
       "      <th>Country</th>\n",
       "      <th>Resource</th>\n",
       "      <th>Stocks and flows</th>\n",
       "      <th>CLASSE</th>\n",
       "      <th>Year</th>\n",
       "      <th>Unit</th>\n",
       "      <th>PowerCode</th>\n",
       "      <th>Value</th>\n",
       "    </tr>\n",
       "  </thead>\n",
       "  <tbody>\n",
       "    <tr>\n",
       "      <th>2544</th>\n",
       "      <td>Australia</td>\n",
       "      <td>Copper</td>\n",
       "      <td>Opening stock</td>\n",
       "      <td>AB</td>\n",
       "      <td>2003</td>\n",
       "      <td>Tonnes</td>\n",
       "      <td>Millions</td>\n",
       "      <td>32.50</td>\n",
       "    </tr>\n",
       "    <tr>\n",
       "      <th>1734</th>\n",
       "      <td>United States</td>\n",
       "      <td>Copper</td>\n",
       "      <td>Extractions</td>\n",
       "      <td>A</td>\n",
       "      <td>2000</td>\n",
       "      <td>Tonnes</td>\n",
       "      <td>Millions</td>\n",
       "      <td>1.44</td>\n",
       "    </tr>\n",
       "    <tr>\n",
       "      <th>1735</th>\n",
       "      <td>United States</td>\n",
       "      <td>Copper</td>\n",
       "      <td>Extractions</td>\n",
       "      <td>A</td>\n",
       "      <td>2001</td>\n",
       "      <td>Tonnes</td>\n",
       "      <td>Millions</td>\n",
       "      <td>1.34</td>\n",
       "    </tr>\n",
       "    <tr>\n",
       "      <th>1736</th>\n",
       "      <td>United States</td>\n",
       "      <td>Copper</td>\n",
       "      <td>Extractions</td>\n",
       "      <td>A</td>\n",
       "      <td>2002</td>\n",
       "      <td>Tonnes</td>\n",
       "      <td>Millions</td>\n",
       "      <td>1.14</td>\n",
       "    </tr>\n",
       "    <tr>\n",
       "      <th>1737</th>\n",
       "      <td>United States</td>\n",
       "      <td>Copper</td>\n",
       "      <td>Extractions</td>\n",
       "      <td>A</td>\n",
       "      <td>2003</td>\n",
       "      <td>Tonnes</td>\n",
       "      <td>Millions</td>\n",
       "      <td>1.12</td>\n",
       "    </tr>\n",
       "  </tbody>\n",
       "</table>\n",
       "</div>"
      ],
      "text/plain": [
       "            Country Resource Stocks and flows CLASSE  Year    Unit PowerCode  \\\n",
       "2544      Australia   Copper    Opening stock     AB  2003  Tonnes  Millions   \n",
       "1734  United States   Copper      Extractions      A  2000  Tonnes  Millions   \n",
       "1735  United States   Copper      Extractions      A  2001  Tonnes  Millions   \n",
       "1736  United States   Copper      Extractions      A  2002  Tonnes  Millions   \n",
       "1737  United States   Copper      Extractions      A  2003  Tonnes  Millions   \n",
       "\n",
       "      Value  \n",
       "2544  32.50  \n",
       "1734   1.44  \n",
       "1735   1.34  \n",
       "1736   1.14  \n",
       "1737   1.12  "
      ]
     },
     "execution_count": 45,
     "metadata": {},
     "output_type": "execute_result"
    }
   ],
   "source": [
    "data_top = df2.head()\n",
    "data_top"
   ]
  },
  {
   "cell_type": "code",
   "execution_count": 54,
   "metadata": {
    "collapsed": true
   },
   "outputs": [
    {
     "name": "stdout",
     "output_type": "stream",
     "text": [
      "20 20\n",
      "20 20\n"
     ]
    }
   ],
   "source": [
    "resources = ['Copper', 'Crude oil', 'Gold', 'Iron-Ore', 'Lead', 'Natural gas', 'Nickel', 'Silver', 'Zinc']\n",
    "open_list = []\n",
    "year_list = []\n",
    "for index, rows in df2.iterrows():\n",
    "    if rows[2] == 'Opening stock' and rows[1] == 'Copper':\n",
    "        if rows[0] == 'United States':\n",
    "            open_list_us.append(rows[7])\n",
    "            year_list_us.append(rows[4])\n",
    "        if rows[0] == 'Australia':\n",
    "            open_list_aus.append(rows[7])\n",
    "            year_list_aus.append(rows[4])\n",
    "        for i in resources:\n",
    "            if r\n",
    "print(len(open_list_us), len(year_list_us))\n",
    "print(len(open_list_aus), len(year_list_aus))\n",
    "        "
   ]
  },
  {
   "cell_type": "code",
   "execution_count": 57,
   "metadata": {
    "scrolled": true
   },
   "outputs": [
    {
     "data": {
      "text/plain": [
       "<matplotlib.legend.Legend at 0x1763e64e880>"
      ]
     },
     "execution_count": 57,
     "metadata": {},
     "output_type": "execute_result"
    },
    {
     "data": {
      "image/png": "[encoded data removed]",
      "text/plain": [
       "<Figure size 432x288 with 1 Axes>"
      ]
     },
     "metadata": {
      "needs_background": "light"
     },
     "output_type": "display_data"
    }
   ],
   "source": [
    "\n",
    "year_list_us, open_list_us  = zip(*sorted(zip(year_list_us, open_list_us)))\n",
    "year_list_aus, open_list_aus  = zip(*sorted(zip(year_list_aus, open_list_aus)))\n",
    "plt.plot(year_list_us, open_list_us)\n",
    "plt.plot(year_list_aus, open_list_aus)\n",
    "plt.legend([\"us\", \"aus\"])"
   ]
  },
  {
   "cell_type": "code",
   "execution_count": 58,
   "metadata": {},
   "outputs": [
    {
     "name": "stdout",
     "output_type": "stream",
     "text": [
      "['Copper', 'Crude oil', 'Gold', 'Iron-Ore', 'Lead', 'Natural gas', 'Nickel', 'Silver', 'Zinc']\n"
     ]
    }
   ],
   "source": [
    "lis = []\n",
    "for index, rows in df2.iterrows():\n",
    "    if rows[1] not in lis:\n",
    "        lis.append(rows[1])\n",
    "print(lis)"
   ]
  },
  {
   "cell_type": "markdown",
   "metadata": {
    "id": "eaDWN21SvpXc"
   },
   "source": [
    "### Submission guideline:\n",
    "1. write your code and report in this notebook. \n",
    "2. save this notebook as <person1ubname_person2ubname.ipynb>.\n",
    "3. save your raw data in data folder.\n",
    "4. save the notebook file with data folder in a folder named <Jiayi_person1ubname_person2ubname.zip> or <Ping_person1ubname_person2ubname.zip> or <Chen_person1ubname_person2ubname.zip> depended on which TA you have choosed. \n",
    "5. upload your zip file to timberlake server."
   ]
  },
  {
   "cell_type": "markdown",
   "metadata": {
    "id": "EKhTnH90vyGU"
   },
   "source": [
    "### Grading:\n",
    "    0 – no submission by deadline\n",
    "    15 – completed submission with all the requirements\n",
    "    10 – there are missing items, or unsatisfactory in some respects\n",
    "    5 – submission present but many required items missing or code not working\n",
    "    \n",
    "Once the deadline is past, you get a zero for the phase if you did not submit anything, even though you need to complete the phase to work on the next phase.\n"
   ]
  },
  {
   "cell_type": "markdown",
   "metadata": {
    "id": "dFA49ew2vtR5"
   },
   "source": [
    "### Example Answer\n",
    "(I am using the dataset from https://www.kaggle.com/gpreda/covid-world-vaccination-progress to provide a sample answer )\n",
    "1. Source of Data: https://ourworldindata.org/\n",
    "2. Give a name to your dataset: COVID-19 WVP (World Vaccination Progress)\n",
    "3. Background:\n",
    "   + Data were collected by Our World in Data\n",
    "   + Time Period: 2020-2021\n",
    "   + Scope (if there is please specified): Global\n",
    "   + Data Unit: Individual country\n"
   ]
  },
  {
   "cell_type": "markdown",
   "metadata": {
    "id": "QAT7me0Lv7VG"
   },
   "source": [
    "4. Introduction of dataset: Answer 2 questions:\n",
    "+ How many columns? Show all the column labels. ((You can use pandas.DataFrame.columns to easily show all the labels of columns.)\n",
    "+ What are they refering to respectively? please write in table form (markdown syntax for drawing tables : [markdown tutorial with examples](https://guides.github.com/features/mastering-markdown/))"
   ]
  },
  {
   "cell_type": "markdown",
   "metadata": {
    "id": "JFkWb7Mlv-Mn"
   },
   "source": [
    "|Column label|description|\n",
    "|-|-|\n",
    "| Country | this is the country for which the vaccination information is provided |\n",
    "| Country ISO Code | ISO code for the country|\n",
    "|Date | date for the data entry; for some of the dates we have only the daily vaccinations, for others, only the (cumulative) total|\n",
    "|Total number of vaccinations| this is the absolute number of total immunizations in the country |\n",
    "|Total number of people vaccinated| a person, depending on the immunization scheme, will receive one or more (typically 2) vaccines; at a certain moment, the number of vaccination might be larger than the number of people|\n",
    "|Total number of people fully vaccinated| the number of people that received the entire set of immunization according to the immunization scheme (typically 2); at a certain moment in time, there might be a certain number of people that received one vaccine and another number (smaller) of people that received all vaccines in the scheme|\n",
    "|Daily vaccinations (raw) | for a certain data entry, the number of vaccination for that date/country|\n",
    "|Daily vaccinations | for a certain data entry, the number of vaccination for that date/country|\n",
    "|Total vaccinations per hundred| ratio (in percent) between vaccination number and total population up to the date in the country|\n",
    "|Total number of people vaccinated per hundred | ratio (in percent) between population immunized and total population up to the date in the country|\n",
    "|Total number of people fully vaccinated per hundred |ratio (in percent) between population fully immunized and total population up to the date in the country|\n",
    "|Number of vaccinations per day | number of daily vaccination for that day and country|\n",
    "|Daily vaccinations per million | ratio (in ppm) between vaccination number and total population for the current date in the country|\n",
    "|Vaccines used in the country | total number of vaccines used in the country (up to date)|\n",
    "|Source name | source of the information (national authority, international organization, local organization etc.)|\n",
    "|Source website | website of the source of information|"
   ]
  },
  {
   "cell_type": "markdown",
   "metadata": {
    "id": "Sh89X2GrwAsJ"
   },
   "source": [
    "5. What hypothesis or conclusion do you want to study from the data?  (Remember this relative to your future phases of task)\\\\\n",
    "The relation between time with respect to increaseing of vaccinated people per day is decreasing negative exponetially (You don't need to be too specific on the hypothesis, something vague is fine. But the hypothesis mustn't be too obvious to analysis, e.g. find the country with largest vaccinated people ). \\\\"
   ]
  },
  {
   "cell_type": "markdown",
   "metadata": {
    "id": "7y9jxRMXwDe2"
   },
   "source": [
    "6. Write codes to load the data (recommend: pandas package) save your data in your google drive \"./data\" folder"
   ]
  },
  {
   "cell_type": "code",
   "execution_count": null,
   "metadata": {
    "colab": {
     "base_uri": "https://localhost:8080/",
     "height": 392
    },
    "id": "kizngdmFwHQb",
    "outputId": "684fec4e-8929-4cf5-f4af-3a7b12c6f987"
   },
   "outputs": [
    {
     "ename": "FileNotFoundError",
     "evalue": "ignored",
     "output_type": "error",
     "traceback": [
      "\u001b[0;31m---------------------------------------------------------------------------\u001b[0m",
      "\u001b[0;31mFileNotFoundError\u001b[0m                         Traceback (most recent call last)",
      "\u001b[0;32m<ipython-input-2-781908c635fa>\u001b[0m in \u001b[0;36m<module>\u001b[0;34m()\u001b[0m\n\u001b[1;32m      1\u001b[0m \u001b[0;32mimport\u001b[0m \u001b[0mpandas\u001b[0m \u001b[0;32mas\u001b[0m \u001b[0mpd\u001b[0m\u001b[0;34m\u001b[0m\u001b[0;34m\u001b[0m\u001b[0m\n\u001b[0;32m----> 2\u001b[0;31m \u001b[0mdf\u001b[0m \u001b[0;34m=\u001b[0m \u001b[0mpd\u001b[0m\u001b[0;34m.\u001b[0m\u001b[0mread_csv\u001b[0m\u001b[0;34m(\u001b[0m\u001b[0;34m\"/path/covid_19.csv\"\u001b[0m\u001b[0;34m)\u001b[0m\u001b[0;34m\u001b[0m\u001b[0;34m\u001b[0m\u001b[0m\n\u001b[0m",
      "\u001b[0;32m/usr/local/lib/python3.6/dist-packages/pandas/io/parsers.py\u001b[0m in \u001b[0;36mread_csv\u001b[0;34m(filepath_or_buffer, sep, delimiter, header, names, index_col, usecols, squeeze, prefix, mangle_dupe_cols, dtype, engine, converters, true_values, false_values, skipinitialspace, skiprows, skipfooter, nrows, na_values, keep_default_na, na_filter, verbose, skip_blank_lines, parse_dates, infer_datetime_format, keep_date_col, date_parser, dayfirst, cache_dates, iterator, chunksize, compression, thousands, decimal, lineterminator, quotechar, quoting, doublequote, escapechar, comment, encoding, dialect, error_bad_lines, warn_bad_lines, delim_whitespace, low_memory, memory_map, float_precision)\u001b[0m\n\u001b[1;32m    686\u001b[0m     )\n\u001b[1;32m    687\u001b[0m \u001b[0;34m\u001b[0m\u001b[0m\n\u001b[0;32m--> 688\u001b[0;31m     \u001b[0;32mreturn\u001b[0m \u001b[0m_read\u001b[0m\u001b[0;34m(\u001b[0m\u001b[0mfilepath_or_buffer\u001b[0m\u001b[0;34m,\u001b[0m \u001b[0mkwds\u001b[0m\u001b[0;34m)\u001b[0m\u001b[0;34m\u001b[0m\u001b[0;34m\u001b[0m\u001b[0m\n\u001b[0m\u001b[1;32m    689\u001b[0m \u001b[0;34m\u001b[0m\u001b[0m\n\u001b[1;32m    690\u001b[0m \u001b[0;34m\u001b[0m\u001b[0m\n",
      "\u001b[0;32m/usr/local/lib/python3.6/dist-packages/pandas/io/parsers.py\u001b[0m in \u001b[0;36m_read\u001b[0;34m(filepath_or_buffer, kwds)\u001b[0m\n\u001b[1;32m    452\u001b[0m \u001b[0;34m\u001b[0m\u001b[0m\n\u001b[1;32m    453\u001b[0m     \u001b[0;31m# Create the parser.\u001b[0m\u001b[0;34m\u001b[0m\u001b[0;34m\u001b[0m\u001b[0;34m\u001b[0m\u001b[0m\n\u001b[0;32m--> 454\u001b[0;31m     \u001b[0mparser\u001b[0m \u001b[0;34m=\u001b[0m \u001b[0mTextFileReader\u001b[0m\u001b[0;34m(\u001b[0m\u001b[0mfp_or_buf\u001b[0m\u001b[0;34m,\u001b[0m \u001b[0;34m**\u001b[0m\u001b[0mkwds\u001b[0m\u001b[0;34m)\u001b[0m\u001b[0;34m\u001b[0m\u001b[0;34m\u001b[0m\u001b[0m\n\u001b[0m\u001b[1;32m    455\u001b[0m \u001b[0;34m\u001b[0m\u001b[0m\n\u001b[1;32m    456\u001b[0m     \u001b[0;32mif\u001b[0m \u001b[0mchunksize\u001b[0m \u001b[0;32mor\u001b[0m \u001b[0miterator\u001b[0m\u001b[0;34m:\u001b[0m\u001b[0;34m\u001b[0m\u001b[0;34m\u001b[0m\u001b[0m\n",
      "\u001b[0;32m/usr/local/lib/python3.6/dist-packages/pandas/io/parsers.py\u001b[0m in \u001b[0;36m__init__\u001b[0;34m(self, f, engine, **kwds)\u001b[0m\n\u001b[1;32m    946\u001b[0m             \u001b[0mself\u001b[0m\u001b[0;34m.\u001b[0m\u001b[0moptions\u001b[0m\u001b[0;34m[\u001b[0m\u001b[0;34m\"has_index_names\"\u001b[0m\u001b[0;34m]\u001b[0m \u001b[0;34m=\u001b[0m \u001b[0mkwds\u001b[0m\u001b[0;34m[\u001b[0m\u001b[0;34m\"has_index_names\"\u001b[0m\u001b[0;34m]\u001b[0m\u001b[0;34m\u001b[0m\u001b[0;34m\u001b[0m\u001b[0m\n\u001b[1;32m    947\u001b[0m \u001b[0;34m\u001b[0m\u001b[0m\n\u001b[0;32m--> 948\u001b[0;31m         \u001b[0mself\u001b[0m\u001b[0;34m.\u001b[0m\u001b[0m_make_engine\u001b[0m\u001b[0;34m(\u001b[0m\u001b[0mself\u001b[0m\u001b[0;34m.\u001b[0m\u001b[0mengine\u001b[0m\u001b[0;34m)\u001b[0m\u001b[0;34m\u001b[0m\u001b[0;34m\u001b[0m\u001b[0m\n\u001b[0m\u001b[1;32m    949\u001b[0m \u001b[0;34m\u001b[0m\u001b[0m\n\u001b[1;32m    950\u001b[0m     \u001b[0;32mdef\u001b[0m \u001b[0mclose\u001b[0m\u001b[0;34m(\u001b[0m\u001b[0mself\u001b[0m\u001b[0;34m)\u001b[0m\u001b[0;34m:\u001b[0m\u001b[0;34m\u001b[0m\u001b[0;34m\u001b[0m\u001b[0m\n",
      "\u001b[0;32m/usr/local/lib/python3.6/dist-packages/pandas/io/parsers.py\u001b[0m in \u001b[0;36m_make_engine\u001b[0;34m(self, engine)\u001b[0m\n\u001b[1;32m   1178\u001b[0m     \u001b[0;32mdef\u001b[0m \u001b[0m_make_engine\u001b[0m\u001b[0;34m(\u001b[0m\u001b[0mself\u001b[0m\u001b[0;34m,\u001b[0m \u001b[0mengine\u001b[0m\u001b[0;34m=\u001b[0m\u001b[0;34m\"c\"\u001b[0m\u001b[0;34m)\u001b[0m\u001b[0;34m:\u001b[0m\u001b[0;34m\u001b[0m\u001b[0;34m\u001b[0m\u001b[0m\n\u001b[1;32m   1179\u001b[0m         \u001b[0;32mif\u001b[0m \u001b[0mengine\u001b[0m \u001b[0;34m==\u001b[0m \u001b[0;34m\"c\"\u001b[0m\u001b[0;34m:\u001b[0m\u001b[0;34m\u001b[0m\u001b[0;34m\u001b[0m\u001b[0m\n\u001b[0;32m-> 1180\u001b[0;31m             \u001b[0mself\u001b[0m\u001b[0;34m.\u001b[0m\u001b[0m_engine\u001b[0m \u001b[0;34m=\u001b[0m \u001b[0mCParserWrapper\u001b[0m\u001b[0;34m(\u001b[0m\u001b[0mself\u001b[0m\u001b[0;34m.\u001b[0m\u001b[0mf\u001b[0m\u001b[0;34m,\u001b[0m \u001b[0;34m**\u001b[0m\u001b[0mself\u001b[0m\u001b[0;34m.\u001b[0m\u001b[0moptions\u001b[0m\u001b[0;34m)\u001b[0m\u001b[0;34m\u001b[0m\u001b[0;34m\u001b[0m\u001b[0m\n\u001b[0m\u001b[1;32m   1181\u001b[0m         \u001b[0;32melse\u001b[0m\u001b[0;34m:\u001b[0m\u001b[0;34m\u001b[0m\u001b[0;34m\u001b[0m\u001b[0m\n\u001b[1;32m   1182\u001b[0m             \u001b[0;32mif\u001b[0m \u001b[0mengine\u001b[0m \u001b[0;34m==\u001b[0m \u001b[0;34m\"python\"\u001b[0m\u001b[0;34m:\u001b[0m\u001b[0;34m\u001b[0m\u001b[0;34m\u001b[0m\u001b[0m\n",
      "\u001b[0;32m/usr/local/lib/python3.6/dist-packages/pandas/io/parsers.py\u001b[0m in \u001b[0;36m__init__\u001b[0;34m(self, src, **kwds)\u001b[0m\n\u001b[1;32m   2008\u001b[0m         \u001b[0mkwds\u001b[0m\u001b[0;34m[\u001b[0m\u001b[0;34m\"usecols\"\u001b[0m\u001b[0;34m]\u001b[0m \u001b[0;34m=\u001b[0m \u001b[0mself\u001b[0m\u001b[0;34m.\u001b[0m\u001b[0musecols\u001b[0m\u001b[0;34m\u001b[0m\u001b[0;34m\u001b[0m\u001b[0m\n\u001b[1;32m   2009\u001b[0m \u001b[0;34m\u001b[0m\u001b[0m\n\u001b[0;32m-> 2010\u001b[0;31m         \u001b[0mself\u001b[0m\u001b[0;34m.\u001b[0m\u001b[0m_reader\u001b[0m \u001b[0;34m=\u001b[0m \u001b[0mparsers\u001b[0m\u001b[0;34m.\u001b[0m\u001b[0mTextReader\u001b[0m\u001b[0;34m(\u001b[0m\u001b[0msrc\u001b[0m\u001b[0;34m,\u001b[0m \u001b[0;34m**\u001b[0m\u001b[0mkwds\u001b[0m\u001b[0;34m)\u001b[0m\u001b[0;34m\u001b[0m\u001b[0;34m\u001b[0m\u001b[0m\n\u001b[0m\u001b[1;32m   2011\u001b[0m         \u001b[0mself\u001b[0m\u001b[0;34m.\u001b[0m\u001b[0munnamed_cols\u001b[0m \u001b[0;34m=\u001b[0m \u001b[0mself\u001b[0m\u001b[0;34m.\u001b[0m\u001b[0m_reader\u001b[0m\u001b[0;34m.\u001b[0m\u001b[0munnamed_cols\u001b[0m\u001b[0;34m\u001b[0m\u001b[0;34m\u001b[0m\u001b[0m\n\u001b[1;32m   2012\u001b[0m \u001b[0;34m\u001b[0m\u001b[0m\n",
      "\u001b[0;32mpandas/_libs/parsers.pyx\u001b[0m in \u001b[0;36mpandas._libs.parsers.TextReader.__cinit__\u001b[0;34m()\u001b[0m\n",
      "\u001b[0;32mpandas/_libs/parsers.pyx\u001b[0m in \u001b[0;36mpandas._libs.parsers.TextReader._setup_parser_source\u001b[0;34m()\u001b[0m\n",
      "\u001b[0;31mFileNotFoundError\u001b[0m: [Errno 2] No such file or directory: '/path/covid_19.csv'"
     ]
    }
   ],
   "source": [
    "import pandas as pd\n",
    "from google.colab import files\n",
    "from google.colab import drive\n",
    "drive.mount('/content/drive')\n",
    "\n",
    "df = pd.read_csv(\"/content/drive/My Drive/data/test.csv\")"
   ]
  },
  {
   "cell_type": "markdown",
   "metadata": {
    "id": "ES9tVum0wPvu"
   },
   "source": [
    "7. IDA (Initial Data Analysis)"
   ]
  },
  {
   "cell_type": "markdown",
   "metadata": {
    "id": "tJ5HmBT1wS1h"
   },
   "source": [
    "Statement: I want to take a look at the brief description of data\n",
    "\n",
    "\n",
    "\n",
    "```\n",
    "df.describe()\n",
    "```\n"
   ]
  },
  {
   "cell_type": "markdown",
   "metadata": {
    "id": "Ed9243e9wWD4"
   },
   "source": [
    "8. (option)Remeber to save your dataSet after processing for future usage:\n"
   ]
  },
  {
   "cell_type": "code",
   "execution_count": null,
   "metadata": {
    "id": "XeTdT_izwYAv"
   },
   "outputs": [],
   "source": [
    "df.to_csv(index=False) # for example"
   ]
  }
 ],
 "metadata": {
  "colab": {
   "collapsed_sections": [],
   "name": "phase1.ipynb",
   "provenance": [],
   "toc_visible": true
  },
  "kernelspec": {
   "display_name": "Python 3",
   "language": "python",
   "name": "python3"
  },
  "language_info": {
   "codemirror_mode": {
    "name": "ipython",
    "version": 3
   },
   "file_extension": ".py",
   "mimetype": "text/x-python",
   "name": "python",
   "nbconvert_exporter": "python",
   "pygments_lexer": "ipython3",
   "version": "3.9.1"
  }
 },
 "nbformat": 4,
 "nbformat_minor": 1
}
