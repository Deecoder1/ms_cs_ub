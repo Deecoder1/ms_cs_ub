{
 "cells": [
  {
   "cell_type": "markdown",
   "id": "smart-pasta",
   "metadata": {},
   "source": [
    "# CSE555: Introduction to Pattern Recognition\n",
    "Spring 2021 \\\n",
    "Professor: Wen Dong\n",
    "\n",
    "Midterm Project Report \\\n",
    "Name: Ananth Deepak Sharma Nanduri \\\n",
    "UB ID: 50372669"
   ]
  },
  {
   "cell_type": "markdown",
   "id": "million-length",
   "metadata": {},
   "source": [
    "# Task 1\n",
    "Describe the final project topic. It has to be related to the course contents\n",
    "\n",
    "### Project Name : Comparison of Random Forest and Neural Network algorithms on loan prediction dataset\n",
    "\n",
    "In this project, I would like to compare the performance, accuracy and other factors that are to be considered while choosing a model in a machine learning project between Random Forest algorithm and Neural networks."
   ]
  },
  {
   "cell_type": "markdown",
   "id": "unique-timer",
   "metadata": {},
   "source": [
    "# Task 2\n",
    "Describe the dataset you are going to use.\n",
    "\n",
    "### Dataset : https://www.kaggle.com/altruistdelhite04/loan-prediction-problem-dataset\n",
    "\n",
    "Training Dataset : 613 rows and 13 attributes. \\\n",
    "Test Dataset : 367 rows and 13 attributes."
   ]
  },
  {
   "cell_type": "markdown",
   "id": "bound-modem",
   "metadata": {},
   "source": [
    "| Columns | Description|\n",
    "|----------------------------|--------------------------------|\n",
    "| Loan_ID|  A uniques loan ID| \n",
    "| Gender| Male/Female| \n",
    "| Married | Married(Yes)/ Not married(No)|\n",
    "| Dependents| Number of persons depending on the client| \n",
    "| Education| Applicant Education (Graduate /Undergraduate)| \n",
    "| Self_employed| Self emplyored (Yes/No) |\n",
    "| Applicantlncome| Applicant income| \n",
    "| Coapplicant Income| Coapplicant Income|\n",
    "| LoanAmount| Loan amount in thousands| \n",
    "| Loan_Amount_Term| Term of lean in months| \n",
    "| Credit_History| Credit history meets guidelines|\n",
    "| Property_Area| Urban/Semi and Rural |\n",
    "| Loan_Status| Loan approved (Y/N)|"
   ]
  },
  {
   "cell_type": "markdown",
   "id": "tamil-strain",
   "metadata": {},
   "source": [
    "# Task 3\n",
    "Describe how you plan to do it.\n"
   ]
  },
  {
   "cell_type": "markdown",
   "id": "pharmaceutical-gentleman",
   "metadata": {},
   "source": [
    "1. I would perform Initial Data Analysis(IDA) [4] to go through the data, clean it so as to be useful for the models that I plan to use in the future and on checking the assumptions to be required for model fitting. This is the most important step in any machine learning project because the completeness of data is less of a problem if it is identifoed prior to the analysis, which can be a disaster if decisions are made on incomplete data. This is the phase where 80% of the time is invested i.e., to clean, scale, normalize and ensuring completeness.\n",
    "2. Then we can proceed to the exploratory data analysis(EDA) [4] to summarize the data using statistical graphics and other visualizations. The main goal of this step is to see how two given variables in the dataset are related to each other. In other words, we try to check how any variable changes when another variable is changed or no such relationships exist. For this we shall use the seaborn package of python which is wodely used to perform EDA.\n",
    "3. Then we use the Random classifier algorithm to train a model using the training dataset and use the model to predict the loan amounts for the applicants in the test dataset. Random forest is basically built using many decision trees whise results are averaged. The advantage of random forest is it is easy to measure the feature importance. Usually, the random forest doesn't suffer overfitting problem if there are enough trees in the forest, but the trade-off being the algorithm is too slow as a lot of computation is to be taken care of. In this phase the hyperparameters of the random forest can be changed to vary the predictions.\n",
    "4. After that we can use Artificial Neural Networks(ANN) to train the model. The features are fed to the neural network, which has neurons which decide the weight of each feature in the outcome and during the training, the outcome is fed back to each layer to adjust those weights, this is called back propagation. Using this model we shall predict the outcomes for the test dataset.\n",
    "5. In the final phase we are going to compare the results obtained while using both the models with various factors [5]. Not only the performance is taken into consideration in real life appliations, as incorporation of wider range of factors helps in making a more confident decision. \n",
    "\n",
    "As a beginner to Machine learning, this comparison lets me get a hands on experience with the mostly used classifier and neural networks and the factors that are to be considered while selecting a model depending on the usecase in hand.\n",
    "\n"
   ]
  },
  {
   "cell_type": "markdown",
   "id": "least-mistake",
   "metadata": {},
   "source": [
    "References:\n",
    "    \n",
    "    1. https://builtin.com/data-science/random-forest-algorithm\n",
    "    2. https://towardsdatascience.com/3-reasons-to-use-random-forest-over-a-neural-network-comparing-machine-learning-versus-deep-f9d65a154d89\n",
    "    3. https://towardsdatascience.com/10-stages-of-a-machine-learning-project-in-2020-and-where-you-fit-cb73ad4726cb\n",
    "    4. https://towardsdatascience.com/a-basic-guide-to-initial-and-exploratory-data-analysis-6d2577dfc242\n",
    "    5. https://towardsdatascience.com/how-to-select-the-right-machine-learning-algorithm-b907a3460e6f\n",
    "    \n",
    "        "
   ]
  }
 ],
 "metadata": {
  "kernelspec": {
   "display_name": "Python 3",
   "language": "python",
   "name": "python3"
  },
  "language_info": {
   "codemirror_mode": {
    "name": "ipython",
    "version": 3
   },
   "file_extension": ".py",
   "mimetype": "text/x-python",
   "name": "python",
   "nbconvert_exporter": "python",
   "pygments_lexer": "ipython3",
   "version": "3.9.1"
  }
 },
 "nbformat": 4,
 "nbformat_minor": 5
}
