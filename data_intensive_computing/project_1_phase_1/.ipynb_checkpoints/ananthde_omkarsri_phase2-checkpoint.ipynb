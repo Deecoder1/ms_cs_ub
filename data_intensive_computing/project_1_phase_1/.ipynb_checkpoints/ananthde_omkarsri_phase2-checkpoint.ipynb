{
 "cells": [
  {
   "cell_type": "markdown",
   "metadata": {
    "id": "9FIZCSqVuWSb"
   },
   "source": [
    "## Phase 2"
   ]
  },
  {
   "cell_type": "markdown",
   "metadata": {
    "id": "976IIwdyuhSk"
   },
   "source": [
    "### Header\n",
    "#### Course Name:  Data Intensive Computing\n",
    "#### phase #: 2\n",
    "#### term project name: Stocks of Energy Resources"
   ]
  },
  {
   "cell_type": "markdown",
   "metadata": {
    "id": "WlFNyBSWukkE"
   },
   "source": [
    "### Q Write down the following information: \n",
    "#### 1. Problem Statement: \n",
    "Mineral and energy resources are one of the seven environmental assets considered in the System of Environmental Economic Accounting(SEEA). These are non renewable energy resources. From an economic, environmental and supply security perspective it is important to keep an eye on the rate of extraction and current availability. \n",
    "\n",
    "Stocks and flows of these commodities are complied in physical units and 3 classes are defined: commercially recoverable resources (Class A), potentially commercially recoverable resources (Class B) and non-commercial and other known deposits (Class C)\n",
    " \n",
    "We are trying to answer on how better can countries perform in preserving the natural resources reducing the discrepancies. As the future power would be with the countries having loaded stocks of mineral and energy resources.\n"
   ]
  },
  {
   "cell_type": "markdown",
   "metadata": {
    "id": "0GVyBWN0utp5"
   },
   "source": [
    "#### 2. Hypothesis:\n",
    "   + hypothesis 1: Which country contains most stocks of natural resources?  \n",
    "   + hypothesis 2: Efforts required in storage and reduce disperencies of stock in future?\n",
    "   + ..."
   ]
  },
  {
   "cell_type": "markdown",
   "metadata": {
    "id": "qufK6cVXuwP1"
   },
   "source": [
    "#### 3 Cleaned Datasets\n",
    "Display the cleaned dataset after phase 1\n"
   ]
  },
  {
   "cell_type": "code",
   "execution_count": 70,
   "metadata": {
    "id": "cY0MZsUmASEn"
   },
   "outputs": [
    {
     "data": {
      "text/html": [
       "<div>\n",
       "<style scoped>\n",
       "    .dataframe tbody tr th:only-of-type {\n",
       "        vertical-align: middle;\n",
       "    }\n",
       "\n",
       "    .dataframe tbody tr th {\n",
       "        vertical-align: top;\n",
       "    }\n",
       "\n",
       "    .dataframe thead th {\n",
       "        text-align: right;\n",
       "    }\n",
       "</style>\n",
       "<table border=\"1\" class=\"dataframe\">\n",
       "  <thead>\n",
       "    <tr style=\"text-align: right;\">\n",
       "      <th></th>\n",
       "      <th>Country</th>\n",
       "      <th>Resource</th>\n",
       "      <th>Stocks and flows</th>\n",
       "      <th>CLASSE</th>\n",
       "      <th>Year</th>\n",
       "      <th>Unit</th>\n",
       "      <th>PowerCode</th>\n",
       "      <th>Value</th>\n",
       "    </tr>\n",
       "  </thead>\n",
       "  <tbody>\n",
       "    <tr>\n",
       "      <th>0</th>\n",
       "      <td>Canada</td>\n",
       "      <td>Copper</td>\n",
       "      <td>Opening stock</td>\n",
       "      <td>A</td>\n",
       "      <td>2009</td>\n",
       "      <td>Tonnes</td>\n",
       "      <td>Millions</td>\n",
       "      <td>0.007</td>\n",
       "    </tr>\n",
       "    <tr>\n",
       "      <th>1</th>\n",
       "      <td>Australia</td>\n",
       "      <td>Copper</td>\n",
       "      <td>Discrepancies</td>\n",
       "      <td>AB</td>\n",
       "      <td>2017</td>\n",
       "      <td>Tonnes</td>\n",
       "      <td>Millions</td>\n",
       "      <td>0.300</td>\n",
       "    </tr>\n",
       "    <tr>\n",
       "      <th>2</th>\n",
       "      <td>Australia</td>\n",
       "      <td>Copper</td>\n",
       "      <td>Discrepancies</td>\n",
       "      <td>AB</td>\n",
       "      <td>2016</td>\n",
       "      <td>Tonnes</td>\n",
       "      <td>Millions</td>\n",
       "      <td>0.400</td>\n",
       "    </tr>\n",
       "    <tr>\n",
       "      <th>3</th>\n",
       "      <td>Australia</td>\n",
       "      <td>Copper</td>\n",
       "      <td>Discrepancies</td>\n",
       "      <td>AB</td>\n",
       "      <td>2015</td>\n",
       "      <td>Tonnes</td>\n",
       "      <td>Millions</td>\n",
       "      <td>-0.300</td>\n",
       "    </tr>\n",
       "    <tr>\n",
       "      <th>4</th>\n",
       "      <td>Australia</td>\n",
       "      <td>Copper</td>\n",
       "      <td>Discrepancies</td>\n",
       "      <td>AB</td>\n",
       "      <td>2014</td>\n",
       "      <td>Tonnes</td>\n",
       "      <td>Millions</td>\n",
       "      <td>-0.750</td>\n",
       "    </tr>\n",
       "  </tbody>\n",
       "</table>\n",
       "</div>"
      ],
      "text/plain": [
       "     Country Resource Stocks and flows CLASSE  Year    Unit PowerCode  Value\n",
       "0     Canada   Copper    Opening stock      A  2009  Tonnes  Millions  0.007\n",
       "1  Australia   Copper    Discrepancies     AB  2017  Tonnes  Millions  0.300\n",
       "2  Australia   Copper    Discrepancies     AB  2016  Tonnes  Millions  0.400\n",
       "3  Australia   Copper    Discrepancies     AB  2015  Tonnes  Millions -0.300\n",
       "4  Australia   Copper    Discrepancies     AB  2014  Tonnes  Millions -0.750"
      ]
     },
     "execution_count": 70,
     "metadata": {},
     "output_type": "execute_result"
    }
   ],
   "source": [
    "# import your cleaned dataset\n",
    "import pandas as pd\n",
    "df = pd.read_csv('DataSetAfterIDA.csv')\n",
    "df.head()\n",
    "# display the first five rows data.head(5)"
   ]
  },
  {
   "cell_type": "markdown",
   "metadata": {
    "id": "pZhUDBoFu58q"
   },
   "source": [
    "#### 4 EDA  \n",
    "Read the piazza post for reference https://piazza.com/class/kk6xmjqekrl1e9?cid=154"
   ]
  },
  {
   "cell_type": "markdown",
   "metadata": {
    "id": "4ngFlilwu8RO"
   },
   "source": [
    "**4.1 Method 1**\n",
    "\n",
    "#### operation name: Labelling the columns \n",
    "#### Reason for doing this: To get an idea on available data and convert it into matrix format.\n",
    "#### Outcome:  Code labels are provided to each column feature."
   ]
  },
  {
   "cell_type": "code",
   "execution_count": 215,
   "metadata": {
    "id": "nK6TznoEvC_k"
   },
   "outputs": [
    {
     "data": {
      "text/plain": [
       "Index(['Country', 'Resource', 'Stocks and flows', 'CLASSE', 'PowerCode',\n",
       "       'Unit', 'Year', 'Value'],\n",
       "      dtype='object')"
      ]
     },
     "execution_count": 215,
     "metadata": {},
     "output_type": "execute_result"
    }
   ],
   "source": [
    "# code for operation\n",
    "df.columns\n",
    "\n"
   ]
  },
  {
   "cell_type": "code",
   "execution_count": 216,
   "metadata": {},
   "outputs": [
    {
     "name": "stdout",
     "output_type": "stream",
     "text": [
      "['Canada', 'Australia', 'United States', 'Netherlands', 'Mexico', 'United Kingdom', 'Norway']\n",
      "['Copper', 'Crude oil', 'Gold', 'Iron-Ore', 'Lead', 'Natural gas', 'Nickel', 'Silver', 'Zinc']\n",
      "['Opening stock', 'Discrepancies', 'Extractions', 'Total reductions in stock', 'Closing stock', 'Upward reappraisals', 'Total additions to stock', 'Downward reappraisals', 'Discoveries']\n",
      "['A', 'AB', 'BC', 'C', 'B']\n",
      "['Millions', 'Billions', 'Units', 'Thousands']\n",
      "['Tonnes', 'Barrels', 'Cubic metres']\n"
     ]
    }
   ],
   "source": [
    "columns_titles = ['Country', 'Resource', 'Stocks and flows', 'CLASSE', 'PowerCode', 'Unit', 'Year',\n",
    "        'Value']\n",
    "df=df.reindex(columns=columns_titles)\n",
    "df.head()\n",
    "# fETCHING THE LIST OF ALL TEST LABELS IN ALL THE COLUMNS\n",
    "for i in range(6):\n",
    "    lis = []\n",
    "    for index, rows in df.iterrows():\n",
    "        if rows[i] not in lis:\n",
    "            lis.append(rows[i])\n",
    "    print(lis)"
   ]
  },
  {
   "cell_type": "code",
   "execution_count": 217,
   "metadata": {},
   "outputs": [],
   "source": [
    "#creating a list that contains all the test column labels\n",
    "text_label_list = [['Canada', 'Australia', 'United States', 'Netherlands', 'Mexico', 'United Kingdom', 'Norway'],\n",
    " ['Copper', 'Crude oil', 'Gold', 'Iron-Ore', 'Lead', 'Natural gas', 'Nickel', 'Silver', 'Zinc'],\n",
    " ['Opening stock', 'Discrepancies', 'Extractions', 'Total reductions in stock', 'Closing stock', 'Upward reappraisals', 'Total additions to stock', 'Downward reappraisals', 'Discoveries'],\n",
    " ['A', 'AB', 'BC', 'C', 'B'],['Millions', 'Billions', 'Units', 'Thousands'],\n",
    " ['Tonnes', 'Barrels', 'Cubic metres']\n",
    "]"
   ]
  },
  {
   "cell_type": "code",
   "execution_count": 218,
   "metadata": {},
   "outputs": [
    {
     "name": "stdout",
     "output_type": "stream",
     "text": [
      "{'Canada': 0, 'Australia': 1, 'United States': 2, 'Netherlands': 3, 'Mexico': 4, 'United Kingdom': 5, 'Norway': 6}\n",
      "{'Copper': 0, 'Crude oil': 1, 'Gold': 2, 'Iron-Ore': 3, 'Lead': 4, 'Natural gas': 5, 'Nickel': 6, 'Silver': 7, 'Zinc': 8}\n",
      "{'Opening stock': 0, 'Discrepancies': 1, 'Extractions': 2, 'Total reductions in stock': 3, 'Closing stock': 4, 'Upward reappraisals': 5, 'Total additions to stock': 6, 'Downward reappraisals': 7, 'Discoveries': 8}\n",
      "{'A': 0, 'AB': 1, 'BC': 2, 'C': 3, 'B': 4}\n",
      "{'Millions': 0, 'Billions': 1, 'Units': 2, 'Thousands': 3}\n",
      "{'Tonnes': 0, 'Barrels': 1, 'Cubic metres': 2}\n",
      "7\n",
      "9\n",
      "9\n",
      "5\n",
      "4\n",
      "3\n"
     ]
    }
   ],
   "source": [
    "#Creating a list of labels data\n",
    "def Convert(lst):\n",
    "    res_dct = {lst[i]: i for i in range(0, len(lst))}\n",
    "    return res_dct\n",
    "\n",
    "label_list = []\n",
    "for i in text_label_list:\n",
    "    label_list.append(Convert(i))\n",
    "for i in label_list:\n",
    "    print(i)\n",
    "for i in label_list:\n",
    "    print(len(i))"
   ]
  },
  {
   "cell_type": "code",
   "execution_count": 219,
   "metadata": {},
   "outputs": [],
   "source": [
    "#converting text column data labels to integers\n",
    "df2 = pd.DataFrame(columns= ['Country', 'Resource', 'Stocks and flows', 'CLASSE', 'PowerCode', 'Unit', 'Year',\n",
    "        'Value'] )\n",
    "for index,rows in df.iterrows():\n",
    "    row_indi = []\n",
    "    for i in range(8):\n",
    "        if i>5:\n",
    "            row_indi.append(rows[i])\n",
    "        else:\n",
    "            row_indi.append(int(label_list[i][rows[i]]))\n",
    "    df2.loc[len(df2.index)] = row_indi"
   ]
  },
  {
   "cell_type": "code",
   "execution_count": 220,
   "metadata": {
    "id": "neHGO3EXBXEO"
   },
   "outputs": [
    {
     "data": {
      "text/html": [
       "<div>\n",
       "<style scoped>\n",
       "    .dataframe tbody tr th:only-of-type {\n",
       "        vertical-align: middle;\n",
       "    }\n",
       "\n",
       "    .dataframe tbody tr th {\n",
       "        vertical-align: top;\n",
       "    }\n",
       "\n",
       "    .dataframe thead th {\n",
       "        text-align: right;\n",
       "    }\n",
       "</style>\n",
       "<table border=\"1\" class=\"dataframe\">\n",
       "  <thead>\n",
       "    <tr style=\"text-align: right;\">\n",
       "      <th></th>\n",
       "      <th>Country</th>\n",
       "      <th>Resource</th>\n",
       "      <th>Stocks and flows</th>\n",
       "      <th>CLASSE</th>\n",
       "      <th>PowerCode</th>\n",
       "      <th>Unit</th>\n",
       "      <th>Year</th>\n",
       "      <th>Value</th>\n",
       "    </tr>\n",
       "  </thead>\n",
       "  <tbody>\n",
       "    <tr>\n",
       "      <th>0</th>\n",
       "      <td>0.0</td>\n",
       "      <td>0.0</td>\n",
       "      <td>0.0</td>\n",
       "      <td>0.0</td>\n",
       "      <td>0.0</td>\n",
       "      <td>0.0</td>\n",
       "      <td>2009.0</td>\n",
       "      <td>0.007</td>\n",
       "    </tr>\n",
       "    <tr>\n",
       "      <th>1</th>\n",
       "      <td>1.0</td>\n",
       "      <td>0.0</td>\n",
       "      <td>1.0</td>\n",
       "      <td>1.0</td>\n",
       "      <td>0.0</td>\n",
       "      <td>0.0</td>\n",
       "      <td>2017.0</td>\n",
       "      <td>0.300</td>\n",
       "    </tr>\n",
       "    <tr>\n",
       "      <th>2</th>\n",
       "      <td>1.0</td>\n",
       "      <td>0.0</td>\n",
       "      <td>1.0</td>\n",
       "      <td>1.0</td>\n",
       "      <td>0.0</td>\n",
       "      <td>0.0</td>\n",
       "      <td>2016.0</td>\n",
       "      <td>0.400</td>\n",
       "    </tr>\n",
       "    <tr>\n",
       "      <th>3</th>\n",
       "      <td>1.0</td>\n",
       "      <td>0.0</td>\n",
       "      <td>1.0</td>\n",
       "      <td>1.0</td>\n",
       "      <td>0.0</td>\n",
       "      <td>0.0</td>\n",
       "      <td>2015.0</td>\n",
       "      <td>-0.300</td>\n",
       "    </tr>\n",
       "    <tr>\n",
       "      <th>4</th>\n",
       "      <td>1.0</td>\n",
       "      <td>0.0</td>\n",
       "      <td>1.0</td>\n",
       "      <td>1.0</td>\n",
       "      <td>0.0</td>\n",
       "      <td>0.0</td>\n",
       "      <td>2014.0</td>\n",
       "      <td>-0.750</td>\n",
       "    </tr>\n",
       "  </tbody>\n",
       "</table>\n",
       "</div>"
      ],
      "text/plain": [
       "   Country  Resource  Stocks and flows  CLASSE  PowerCode  Unit    Year  Value\n",
       "0      0.0       0.0               0.0     0.0        0.0   0.0  2009.0  0.007\n",
       "1      1.0       0.0               1.0     1.0        0.0   0.0  2017.0  0.300\n",
       "2      1.0       0.0               1.0     1.0        0.0   0.0  2016.0  0.400\n",
       "3      1.0       0.0               1.0     1.0        0.0   0.0  2015.0 -0.300\n",
       "4      1.0       0.0               1.0     1.0        0.0   0.0  2014.0 -0.750"
      ]
     },
     "execution_count": 220,
     "metadata": {},
     "output_type": "execute_result"
    }
   ],
   "source": [
    "# code for display\n",
    "df2.head()"
   ]
  },
  {
   "cell_type": "code",
   "execution_count": 278,
   "metadata": {},
   "outputs": [
    {
     "data": {
      "text/plain": [
       "Index(['Country', 'Resource', 'Stocks and flows', 'CLASSE', 'PowerCode',\n",
       "       'Unit', 'Year', 'Value'],\n",
       "      dtype='object')"
      ]
     },
     "execution_count": 278,
     "metadata": {},
     "output_type": "execute_result"
    }
   ],
   "source": [
    "df2.columns"
   ]
  },
  {
   "cell_type": "markdown",
   "metadata": {},
   "source": [
    "| Code | Country| Resource| Flows | Class| Unit| PowerCode|\n",
    "|----------------------------|--------------------------------|-------------| ----------------------------|--------------------------------|-------------|-------------|\n",
    "| 0| Canada| Copper|  Opening Stock| A| Millions|Tonnes|\n",
    "| 1| Australia| Crude oil| Discrepancies| AB| Billions|Barrels|\n",
    "| 2| United States| Gold| Extractions| BC| Units|Cubic metres|\n",
    "| 3| Netherlands| Iron-ore| Total reductions in stock| C| Thousands|---|\n",
    "| 4| Mexico| Lead| Closing stock| B| ---|---|\n",
    "| 5| United Kingdom|Natural Gas | Upward reappraisals| ---| ---|---|\n",
    "| 6| Norway| Nickel| Total additions to stock| ---| ---|---|\n",
    "| 7| ---| Silver| Downward reappraisals| ---| ---|---|\n",
    "| 8| ---| Zinc| Discoveries| ---| ---|---|"
   ]
  },
  {
   "cell_type": "markdown",
   "metadata": {
    "id": "vL_JjqAsBjPM"
   },
   "source": [
    "**4.2 Method 2**\n",
    "\n",
    "#### operation name: Matrix conversion of coded values\n",
    "#### Reason for doing this: To know which country has what class of stocks stored.\n",
    "#### Outcome: Matrices grouped by resource which tells us what values to be picked for plotting. So from this step we inferred that Classes BC, C, B have no contribution towards the visualization hence they can be discarded from the analysis"
   ]
  },
  {
   "cell_type": "code",
   "execution_count": 221,
   "metadata": {
    "id": "uT26GWioBlwZ"
   },
   "outputs": [
    {
     "name": "stdout",
     "output_type": "stream",
     "text": [
      "resource : 0\n",
      "resource : 1\n",
      "resource : 2\n",
      "resource : 3\n",
      "resource : 4\n",
      "resource : 5\n",
      "resource : 6\n",
      "resource : 7\n",
      "resource : 8\n"
     ]
    }
   ],
   "source": [
    "# code for operation\n",
    "#Exploring the Class wise data for all the countries Copper resources \n",
    "country_labels = 7\n",
    "resource_labels = 9\n",
    "flow_labels = 9\n",
    "class_labels = 5\n",
    "powercode_labels = 4\n",
    "units_labels = 3\n",
    "\n",
    "res_list = []\n",
    "for res_label in range(resource_labels): \n",
    "    print(\"resource :\", res_label)\n",
    "    class_list = []\n",
    "    for j in range(class_labels):\n",
    "        cls_list = []\n",
    "        list_u = []\n",
    "        for i in range(country_labels):\n",
    "            year_list = []\n",
    "            cou, res, flw,cls = float(i), float(res_label), 0.0, float(j)\n",
    "            for index, rows in df2.iterrows():\n",
    "                if rows[0] == cou and rows[1] == res and rows[2] == flw and rows[3] == cls:\n",
    "                    year_list.append(rows[-2])\n",
    "            list_u.append(sorted(year_list))    \n",
    "        for i in range(len(list_u)):\n",
    "            cls_list.append(len(list_u[i]))\n",
    "        class_list.append(cls_list)\n",
    "    res_list.append(class_list)"
   ]
  },
  {
   "cell_type": "code",
   "execution_count": 223,
   "metadata": {
    "id": "yIDP2Cx3BwA_"
   },
   "outputs": [
    {
     "data": {
      "image/png": "[encoded data removed]",
      "text/plain": [
       "<Figure size 432x288 with 1 Axes>"
      ]
     },
     "metadata": {
      "needs_background": "light"
     },
     "output_type": "display_data"
    },
    {
     "data": {
      "image/png": "[encoded data removed]",
      "text/plain": [
       "<Figure size 432x288 with 1 Axes>"
      ]
     },
     "metadata": {
      "needs_background": "light"
     },
     "output_type": "display_data"
    },
    {
     "data": {
      "image/png": "[encoded data removed]",
      "text/plain": [
       "<Figure size 432x288 with 1 Axes>"
      ]
     },
     "metadata": {
      "needs_background": "light"
     },
     "output_type": "display_data"
    },
    {
     "data": {
      "image/png": "[encoded data removed]",
      "text/plain": [
       "<Figure size 432x288 with 1 Axes>"
      ]
     },
     "metadata": {
      "needs_background": "light"
     },
     "output_type": "display_data"
    },
    {
     "data": {
      "image/png": "[encoded data removed]",
      "text/plain": [
       "<Figure size 432x288 with 1 Axes>"
      ]
     },
     "metadata": {
      "needs_background": "light"
     },
     "output_type": "display_data"
    }
   ],
   "source": [
    "# code for display\n",
    "    \n",
    "import matplotlib.pyplot as plt\n",
    "for j in range(resource_labels):\n",
    "    for i in range(len(res_list[j])):\n",
    "        count = ['Canada', 'Australia', 'US', 'Netherlands', 'Mexico', 'UK', 'Norway']\n",
    "        fig = plt.figure()\n",
    "        ax = fig.add_axes([0,0,1,1])\n",
    "        ax.bar(count, res_list[j][i])\n",
    "        ax.set_title(\"Class \" + text_label_list[3][i])\n",
    "    break"
   ]
  },
  {
   "cell_type": "markdown",
   "metadata": {
    "id": "-uOg1sYgB4G1"
   },
   "source": [
    "**4.3 Method 3**\n",
    "\n",
    "#### operation name: Plotting feature 'Opening Stock' of all resources in all countries\n",
    "#### Reason for doing this: Helps in visuavalizing availability of resource stock over the years and comparing\n",
    "#### Outcome: This shows us the availability of class A grade Copper in Canada, UnitedStates and  Class AB Copper in Australia"
   ]
  },
  {
   "cell_type": "code",
   "execution_count": 232,
   "metadata": {},
   "outputs": [
    {
     "data": {
      "text/html": [
       "<div>\n",
       "<style scoped>\n",
       "    .dataframe tbody tr th:only-of-type {\n",
       "        vertical-align: middle;\n",
       "    }\n",
       "\n",
       "    .dataframe tbody tr th {\n",
       "        vertical-align: top;\n",
       "    }\n",
       "\n",
       "    .dataframe thead th {\n",
       "        text-align: right;\n",
       "    }\n",
       "</style>\n",
       "<table border=\"1\" class=\"dataframe\">\n",
       "  <thead>\n",
       "    <tr style=\"text-align: right;\">\n",
       "      <th></th>\n",
       "      <th>Country</th>\n",
       "      <th>Resource</th>\n",
       "      <th>Stocks and flows</th>\n",
       "      <th>CLASSE</th>\n",
       "      <th>PowerCode</th>\n",
       "      <th>Unit</th>\n",
       "      <th>Year</th>\n",
       "      <th>Value</th>\n",
       "    </tr>\n",
       "  </thead>\n",
       "  <tbody>\n",
       "    <tr>\n",
       "      <th>0</th>\n",
       "      <td>Canada</td>\n",
       "      <td>Copper</td>\n",
       "      <td>Opening stock</td>\n",
       "      <td>A</td>\n",
       "      <td>Millions</td>\n",
       "      <td>Tonnes</td>\n",
       "      <td>2009</td>\n",
       "      <td>0.007</td>\n",
       "    </tr>\n",
       "    <tr>\n",
       "      <th>1</th>\n",
       "      <td>Australia</td>\n",
       "      <td>Copper</td>\n",
       "      <td>Discrepancies</td>\n",
       "      <td>AB</td>\n",
       "      <td>Millions</td>\n",
       "      <td>Tonnes</td>\n",
       "      <td>2017</td>\n",
       "      <td>0.300</td>\n",
       "    </tr>\n",
       "    <tr>\n",
       "      <th>2</th>\n",
       "      <td>Australia</td>\n",
       "      <td>Copper</td>\n",
       "      <td>Discrepancies</td>\n",
       "      <td>AB</td>\n",
       "      <td>Millions</td>\n",
       "      <td>Tonnes</td>\n",
       "      <td>2016</td>\n",
       "      <td>0.400</td>\n",
       "    </tr>\n",
       "    <tr>\n",
       "      <th>3</th>\n",
       "      <td>Australia</td>\n",
       "      <td>Copper</td>\n",
       "      <td>Discrepancies</td>\n",
       "      <td>AB</td>\n",
       "      <td>Millions</td>\n",
       "      <td>Tonnes</td>\n",
       "      <td>2015</td>\n",
       "      <td>-0.300</td>\n",
       "    </tr>\n",
       "    <tr>\n",
       "      <th>4</th>\n",
       "      <td>Australia</td>\n",
       "      <td>Copper</td>\n",
       "      <td>Discrepancies</td>\n",
       "      <td>AB</td>\n",
       "      <td>Millions</td>\n",
       "      <td>Tonnes</td>\n",
       "      <td>2014</td>\n",
       "      <td>-0.750</td>\n",
       "    </tr>\n",
       "  </tbody>\n",
       "</table>\n",
       "</div>"
      ],
      "text/plain": [
       "     Country Resource Stocks and flows CLASSE PowerCode    Unit  Year  Value\n",
       "0     Canada   Copper    Opening stock      A  Millions  Tonnes  2009  0.007\n",
       "1  Australia   Copper    Discrepancies     AB  Millions  Tonnes  2017  0.300\n",
       "2  Australia   Copper    Discrepancies     AB  Millions  Tonnes  2016  0.400\n",
       "3  Australia   Copper    Discrepancies     AB  Millions  Tonnes  2015 -0.300\n",
       "4  Australia   Copper    Discrepancies     AB  Millions  Tonnes  2014 -0.750"
      ]
     },
     "execution_count": 232,
     "metadata": {},
     "output_type": "execute_result"
    }
   ],
   "source": [
    "df.head()"
   ]
  },
  {
   "cell_type": "code",
   "execution_count": 247,
   "metadata": {
    "id": "A6uoZhF9CJRF"
   },
   "outputs": [],
   "source": [
    "# code for operation\n",
    "year_list_can, year_list_us, year_list_aus, open_list_can,open_list_us, open_list_aus = [],[],[],[], [], []\n",
    "for index, rows in df2.iterrows():\n",
    "    if rows[2] == 0 and rows[1] == 0:\n",
    "        if rows[0] == 2:\n",
    "            open_list_us.append(rows[7])\n",
    "            year_list_us.append(rows[6])\n",
    "            \n",
    "        if rows[0] == 0:\n",
    "            open_list_can.append(rows[7])\n",
    "            year_list_can.append(rows[6])\n",
    "        \n",
    "        if rows[0] == 1:\n",
    "            open_list_aus.append(rows[7]) \n",
    "            year_list_aus.append(rows[6])\n",
    "        \n"
   ]
  },
  {
   "cell_type": "code",
   "execution_count": 248,
   "metadata": {
    "id": "y-IYHpR9CQXD"
   },
   "outputs": [
    {
     "name": "stdout",
     "output_type": "stream",
     "text": [
      "20\n",
      "(0.008, 0.007, 0.007, 0.007, 0.006, 0.006, 0.007, 0.007, 0.008, 0.007, 0.007, 0.009, 0.011, 0.01, 0.011, 0.01, 0.01)\n",
      "(45.0, 45.0, 45.0, 35.0, 35.0, 35.0, 35.0, 35.0, 35.0, 35.0, 35.0, 35.0, 35.0, 39.0, 39.0, 35.0, 33.0, 35.0, 45.0, 48.0)\n",
      "(22.8, 23.7, 26.35, 32.5, 38.8, 41.45, 41.85, 46.4, 59.75, 73.85, 81.05, 84.55, 87.5, 90.5, 91.45, 89.7, 88.45, 87.95, 87.35, 86.65)\n"
     ]
    },
    {
     "data": {
      "text/plain": [
       "[<matplotlib.lines.Line2D at 0x267c0b36070>]"
      ]
     },
     "execution_count": 248,
     "metadata": {},
     "output_type": "execute_result"
    },
    {
     "data": {
      "image/png": "[encoded data removed]",
      "text/plain": [
       "<Figure size 432x288 with 2 Axes>"
      ]
     },
     "metadata": {
      "needs_background": "light"
     },
     "output_type": "display_data"
    },
    {
     "data": {
      "image/png": "[encoded data removed]",
      "text/plain": [
       "<Figure size 432x288 with 1 Axes>"
      ]
     },
     "metadata": {
      "needs_background": "light"
     },
     "output_type": "display_data"
    }
   ],
   "source": [
    "# code for display\n",
    "print(len(open_list_aus))\n",
    "year_list_us, open_list_us  = zip(*sorted(zip(year_list_us, open_list_us)))\n",
    "year_list_can, open_list_can  = zip(*sorted(zip(year_list_can, open_list_can)))\n",
    "year_list_aus, open_list_aus  = zip(*sorted(zip(year_list_aus, open_list_aus)))\n",
    "print(open_list_can)\n",
    "print(open_list_us)\n",
    "print(open_list_aus)\n",
    "fig, axs = plt.subplots(2)\n",
    "fig.suptitle('Class A copper in US and Canada')\n",
    "\n",
    "axs[0].plot(year_list_can, open_list_can)\n",
    "axs[1].plot(year_list_us, open_list_us)\n",
    "axs[0].legend(\"c\")\n",
    "axs[1].legend(\"u\")\n",
    "\n",
    "fig, axs = plt.subplots(1)\n",
    "fig.suptitle('Class AB copper in Australia')\n",
    "axs.plot(year_list_aus, open_list_aus)\n",
    "# plt.plot(year_list_us, open_list_us)\n",
    "# plt.plot(year_list_can, open_list_can)\n"
   ]
  },
  {
   "cell_type": "markdown",
   "metadata": {
    "id": "rmDLxYWOB43K"
   },
   "source": [
    "**4.4 Method 4**\n",
    "\n",
    "#### operation name:  Visualization of mineral resources across all countries\n",
    "#### Reason for doing this: To know the amount of stock available on a whole across all the countries\n",
    "#### Outcome: We can see Class A crude oil is highly available in all countries except Australia but Class AB is available in both Netherlands and Australia."
   ]
  },
  {
   "cell_type": "code",
   "execution_count": 260,
   "metadata": {
    "id": "Xni1hQCMCKDr",
    "scrolled": false
   },
   "outputs": [
    {
     "name": "stdout",
     "output_type": "stream",
     "text": [
      "22\n",
      "[17, 0, 19, 6, 20, 19, 20]\n"
     ]
    },
    {
     "data": {
      "text/plain": [
       "<function matplotlib.pyplot.show(close=None, block=None)>"
      ]
     },
     "execution_count": 260,
     "metadata": {},
     "output_type": "execute_result"
    },
    {
     "data": {
      "image/png": "[encoded data removed]",
      "text/plain": [
       "<Figure size 432x288 with 1 Axes>"
      ]
     },
     "metadata": {},
     "output_type": "display_data"
    }
   ],
   "source": [
    "# code for operation\n",
    "for j in range(1,resource_labels):\n",
    "    for i in range(len(res_list[j])):\n",
    "        count = ['Canada', 'Australia', 'US', 'Netherlands', 'Mexico', 'UK', 'Norway']\n",
    "        print(22)\n",
    "        print(res_list[j][i])\n",
    "        break\n",
    "    break\n",
    "plt.pie(res_list[j][i], labels = count)\n",
    "plt.title(\"Class A Crude oil resource distribution across countries\")\n",
    "plt.show\n"
   ]
  },
  {
   "cell_type": "code",
   "execution_count": 295,
   "metadata": {},
   "outputs": [
    {
     "name": "stdout",
     "output_type": "stream",
     "text": [
      "22\n",
      "[0, 20, 0, 19, 0, 0, 0]\n"
     ]
    },
    {
     "data": {
      "text/plain": [
       "<function matplotlib.pyplot.show(close=None, block=None)>"
      ]
     },
     "execution_count": 295,
     "metadata": {},
     "output_type": "execute_result"
    },
    {
     "data": {
      "image/png": "[encoded data removed]",
      "text/plain": [
       "<Figure size 432x288 with 1 Axes>"
      ]
     },
     "metadata": {},
     "output_type": "display_data"
    }
   ],
   "source": [
    "for j in range(1,resource_labels):\n",
    "    for i in range(1,len(res_list[j])):\n",
    "        count = ['Canada', 'Australia', 'US', 'Netherlands', 'Mexico', 'UK', 'Norway']\n",
    "        print(22)\n",
    "        print(res_list[j][i])\n",
    "        break\n",
    "    break\n",
    "plt.pie(res_list[j][i], labels = count)\n",
    "plt.title(\"Class AB Crude oil resource distribution across countries\")\n",
    "plt.show"
   ]
  },
  {
   "cell_type": "code",
   "execution_count": 265,
   "metadata": {
    "id": "9VHiNoPlCRAe"
   },
   "outputs": [
    {
     "name": "stdout",
     "output_type": "stream",
     "text": [
      "resource  0\n",
      "[17, 0, 20, 0, 0, 0, 0]\n",
      "[0, 20, 0, 0, 0, 0, 0]\n",
      "[0, 0, 0, 0, 0, 0, 0]\n",
      "[0, 0, 0, 0, 0, 0, 0]\n",
      "[0, 0, 0, 0, 0, 0, 0]\n",
      "resource  1\n",
      "[17, 0, 19, 6, 20, 19, 20]\n",
      "[0, 20, 0, 19, 0, 0, 0]\n",
      "[0, 0, 0, 0, 0, 14, 0]\n",
      "[0, 0, 0, 0, 0, 0, 20]\n",
      "[0, 0, 0, 6, 0, 0, 20]\n",
      "resource  2\n",
      "[17, 0, 20, 0, 0, 0, 0]\n",
      "[0, 20, 0, 0, 0, 0, 0]\n",
      "[0, 0, 0, 0, 0, 0, 0]\n",
      "[0, 0, 0, 0, 0, 0, 0]\n",
      "[0, 0, 0, 0, 0, 0, 0]\n",
      "resource  3\n",
      "[17, 0, 20, 0, 0, 0, 0]\n",
      "[0, 20, 0, 0, 0, 0, 0]\n",
      "[0, 0, 0, 0, 0, 0, 0]\n",
      "[0, 0, 0, 0, 0, 0, 0]\n",
      "[0, 0, 0, 0, 0, 0, 0]\n",
      "resource  4\n",
      "[17, 0, 20, 0, 0, 0, 0]\n",
      "[0, 20, 0, 0, 0, 0, 0]\n",
      "[0, 0, 0, 0, 0, 0, 0]\n",
      "[0, 0, 0, 0, 0, 0, 0]\n",
      "[0, 0, 0, 0, 0, 0, 0]\n",
      "resource  5\n",
      "[17, 0, 19, 6, 16, 19, 20]\n",
      "[0, 20, 0, 19, 0, 0, 0]\n",
      "[0, 0, 0, 0, 0, 14, 0]\n",
      "[0, 0, 0, 0, 0, 0, 20]\n",
      "[0, 0, 0, 6, 0, 0, 20]\n",
      "resource  6\n",
      "[17, 0, 9, 0, 0, 0, 0]\n",
      "[0, 20, 0, 0, 0, 0, 0]\n",
      "[0, 0, 0, 0, 0, 0, 0]\n",
      "[0, 0, 0, 0, 0, 0, 0]\n",
      "[0, 0, 0, 0, 0, 0, 0]\n",
      "resource  7\n",
      "[17, 0, 20, 0, 0, 0, 0]\n",
      "[0, 20, 0, 0, 0, 0, 0]\n",
      "[0, 0, 0, 0, 0, 0, 0]\n",
      "[0, 0, 0, 0, 0, 0, 0]\n",
      "[0, 0, 0, 0, 0, 0, 0]\n",
      "resource  8\n",
      "[17, 0, 20, 0, 0, 0, 0]\n",
      "[0, 20, 0, 0, 0, 0, 0]\n",
      "[0, 0, 0, 0, 0, 0, 0]\n",
      "[0, 0, 0, 0, 0, 0, 0]\n",
      "[0, 0, 0, 0, 0, 0, 0]\n"
     ]
    }
   ],
   "source": [
    "# code for display\n",
    "count = 0 \n",
    "for i in res_list:\n",
    "    print(\"resource \", count )\n",
    "    for j in i:\n",
    "        print(j)\n",
    "    count+=1"
   ]
  },
  {
   "cell_type": "markdown",
   "metadata": {
    "id": "qQn-uigfB55F"
   },
   "source": [
    "**4.5 Method 5**\n",
    "\n",
    "#### operation name:  In the above step we created the relationship matrices that define the relationships between resource grade and countries. \n",
    "#### Reason for doing this: So let us create another matrix for a better understanding the relationship\n",
    "#### Outcome: Hence we can see that there are a lot of sparse fields which dont contribute to the analysis so we can discard them."
   ]
  },
  {
   "cell_type": "code",
   "execution_count": 277,
   "metadata": {
    "id": "rXBcdPWzCKxX"
   },
   "outputs": [
    {
     "name": "stdout",
     "output_type": "stream",
     "text": [
      "Resource X Class Matrix for country :  0\n",
      "[17.  0.  0.  0.  0.]\n",
      "[17.  0.  0.  0.  0.]\n",
      "[17.  0.  0.  0.  0.]\n",
      "[17.  0.  0.  0.  0.]\n",
      "[17.  0.  0.  0.  0.]\n",
      "[17.  0.  0.  0.  0.]\n",
      "[17.  0.  0.  0.  0.]\n",
      "[17.  0.  0.  0.  0.]\n",
      "[17.  0.  0.  0.  0.]\n",
      "Resource X Class Matrix for country :  1\n",
      "[ 0. 20.  0.  0.  0.]\n",
      "[ 0. 20.  0.  0.  0.]\n",
      "[ 0. 20.  0.  0.  0.]\n",
      "[ 0. 20.  0.  0.  0.]\n",
      "[ 0. 20.  0.  0.  0.]\n",
      "[ 0. 20.  0.  0.  0.]\n",
      "[ 0. 20.  0.  0.  0.]\n",
      "[ 0. 20.  0.  0.  0.]\n",
      "[ 0. 20.  0.  0.  0.]\n",
      "Resource X Class Matrix for country :  2\n",
      "[20.  0.  0.  0.  0.]\n",
      "[19.  0.  0.  0.  0.]\n",
      "[20.  0.  0.  0.  0.]\n",
      "[20.  0.  0.  0.  0.]\n",
      "[20.  0.  0.  0.  0.]\n",
      "[19.  0.  0.  0.  0.]\n",
      "[9. 0. 0. 0. 0.]\n",
      "[20.  0.  0.  0.  0.]\n",
      "[20.  0.  0.  0.  0.]\n",
      "Resource X Class Matrix for country :  3\n",
      "[0. 0. 0. 0. 0.]\n",
      "[ 6. 19.  0.  0.  6.]\n",
      "[0. 0. 0. 0. 0.]\n",
      "[0. 0. 0. 0. 0.]\n",
      "[0. 0. 0. 0. 0.]\n",
      "[ 6. 19.  0.  0.  6.]\n",
      "[0. 0. 0. 0. 0.]\n",
      "[0. 0. 0. 0. 0.]\n",
      "[0. 0. 0. 0. 0.]\n",
      "Resource X Class Matrix for country :  4\n",
      "[0. 0. 0. 0. 0.]\n",
      "[20.  0.  0.  0.  0.]\n",
      "[0. 0. 0. 0. 0.]\n",
      "[0. 0. 0. 0. 0.]\n",
      "[0. 0. 0. 0. 0.]\n",
      "[16.  0.  0.  0.  0.]\n",
      "[0. 0. 0. 0. 0.]\n",
      "[0. 0. 0. 0. 0.]\n",
      "[0. 0. 0. 0. 0.]\n",
      "Resource X Class Matrix for country :  5\n",
      "[0. 0. 0. 0. 0.]\n",
      "[19.  0. 14.  0.  0.]\n",
      "[0. 0. 0. 0. 0.]\n",
      "[0. 0. 0. 0. 0.]\n",
      "[0. 0. 0. 0. 0.]\n",
      "[19.  0. 14.  0.  0.]\n",
      "[0. 0. 0. 0. 0.]\n",
      "[0. 0. 0. 0. 0.]\n",
      "[0. 0. 0. 0. 0.]\n",
      "Resource X Class Matrix for country :  6\n",
      "[0. 0. 0. 0. 0.]\n",
      "[20.  0.  0. 20. 20.]\n",
      "[0. 0. 0. 0. 0.]\n",
      "[0. 0. 0. 0. 0.]\n",
      "[0. 0. 0. 0. 0.]\n",
      "[20.  0.  0. 20. 20.]\n",
      "[0. 0. 0. 0. 0.]\n",
      "[0. 0. 0. 0. 0.]\n",
      "[0. 0. 0. 0. 0.]\n"
     ]
    }
   ],
   "source": [
    "# code for operation\n",
    "\n",
    "import numpy as np\n",
    "for country in range(country_labels):\n",
    "    resource_matrix = np.zeros((9,5))\n",
    "    print(\"Resource X Class Matrix for country : \", country )\n",
    "    for i in range(len(res_list)):\n",
    "        for j in range(len(res_list[country])):\n",
    "            resource_matrix[i][j]+= res_list[i][j][country]\n",
    "    # code for display\n",
    "    for k in resource_matrix:\n",
    "        print(k)"
   ]
  },
  {
   "cell_type": "markdown",
   "metadata": {
    "id": "YaR47dvQB6LR"
   },
   "source": [
    "**4.6 Method 6**\n",
    "\n",
    "#### operation name: Discarding the sparse grades of resources from the data analysis.\n",
    "#### Reason for doing this: As they contain no important information for the analysis.\n",
    "#### Outcome: Discarded the sparse values and a meaningful dataset is formed."
   ]
  },
  {
   "cell_type": "code",
   "execution_count": 279,
   "metadata": {},
   "outputs": [
    {
     "data": {
      "text/html": [
       "<div>\n",
       "<style scoped>\n",
       "    .dataframe tbody tr th:only-of-type {\n",
       "        vertical-align: middle;\n",
       "    }\n",
       "\n",
       "    .dataframe tbody tr th {\n",
       "        vertical-align: top;\n",
       "    }\n",
       "\n",
       "    .dataframe thead th {\n",
       "        text-align: right;\n",
       "    }\n",
       "</style>\n",
       "<table border=\"1\" class=\"dataframe\">\n",
       "  <thead>\n",
       "    <tr style=\"text-align: right;\">\n",
       "      <th></th>\n",
       "      <th>Country</th>\n",
       "      <th>Resource</th>\n",
       "      <th>Stocks and flows</th>\n",
       "      <th>CLASSE</th>\n",
       "      <th>PowerCode</th>\n",
       "      <th>Unit</th>\n",
       "      <th>Year</th>\n",
       "      <th>Value</th>\n",
       "    </tr>\n",
       "  </thead>\n",
       "  <tbody>\n",
       "    <tr>\n",
       "      <th>0</th>\n",
       "      <td>0.0</td>\n",
       "      <td>0.0</td>\n",
       "      <td>0.0</td>\n",
       "      <td>0.0</td>\n",
       "      <td>0.0</td>\n",
       "      <td>0.0</td>\n",
       "      <td>2009.0</td>\n",
       "      <td>0.007</td>\n",
       "    </tr>\n",
       "    <tr>\n",
       "      <th>1</th>\n",
       "      <td>1.0</td>\n",
       "      <td>0.0</td>\n",
       "      <td>1.0</td>\n",
       "      <td>1.0</td>\n",
       "      <td>0.0</td>\n",
       "      <td>0.0</td>\n",
       "      <td>2017.0</td>\n",
       "      <td>0.300</td>\n",
       "    </tr>\n",
       "    <tr>\n",
       "      <th>2</th>\n",
       "      <td>1.0</td>\n",
       "      <td>0.0</td>\n",
       "      <td>1.0</td>\n",
       "      <td>1.0</td>\n",
       "      <td>0.0</td>\n",
       "      <td>0.0</td>\n",
       "      <td>2016.0</td>\n",
       "      <td>0.400</td>\n",
       "    </tr>\n",
       "    <tr>\n",
       "      <th>3</th>\n",
       "      <td>1.0</td>\n",
       "      <td>0.0</td>\n",
       "      <td>1.0</td>\n",
       "      <td>1.0</td>\n",
       "      <td>0.0</td>\n",
       "      <td>0.0</td>\n",
       "      <td>2015.0</td>\n",
       "      <td>-0.300</td>\n",
       "    </tr>\n",
       "    <tr>\n",
       "      <th>4</th>\n",
       "      <td>1.0</td>\n",
       "      <td>0.0</td>\n",
       "      <td>1.0</td>\n",
       "      <td>1.0</td>\n",
       "      <td>0.0</td>\n",
       "      <td>0.0</td>\n",
       "      <td>2014.0</td>\n",
       "      <td>-0.750</td>\n",
       "    </tr>\n",
       "  </tbody>\n",
       "</table>\n",
       "</div>"
      ],
      "text/plain": [
       "   Country  Resource  Stocks and flows  CLASSE  PowerCode  Unit    Year  Value\n",
       "0      0.0       0.0               0.0     0.0        0.0   0.0  2009.0  0.007\n",
       "1      1.0       0.0               1.0     1.0        0.0   0.0  2017.0  0.300\n",
       "2      1.0       0.0               1.0     1.0        0.0   0.0  2016.0  0.400\n",
       "3      1.0       0.0               1.0     1.0        0.0   0.0  2015.0 -0.300\n",
       "4      1.0       0.0               1.0     1.0        0.0   0.0  2014.0 -0.750"
      ]
     },
     "execution_count": 279,
     "metadata": {},
     "output_type": "execute_result"
    }
   ],
   "source": [
    "df2.head()"
   ]
  },
  {
   "cell_type": "code",
   "execution_count": 280,
   "metadata": {
    "id": "vMakynUwCLwp"
   },
   "outputs": [
    {
     "name": "stdout",
     "output_type": "stream",
     "text": [
      "1000\n",
      "2000\n",
      "3000\n",
      "3476 3794 3476\n"
     ]
    },
    {
     "data": {
      "text/html": [
       "<div>\n",
       "<style scoped>\n",
       "    .dataframe tbody tr th:only-of-type {\n",
       "        vertical-align: middle;\n",
       "    }\n",
       "\n",
       "    .dataframe tbody tr th {\n",
       "        vertical-align: top;\n",
       "    }\n",
       "\n",
       "    .dataframe thead th {\n",
       "        text-align: right;\n",
       "    }\n",
       "</style>\n",
       "<table border=\"1\" class=\"dataframe\">\n",
       "  <thead>\n",
       "    <tr style=\"text-align: right;\">\n",
       "      <th></th>\n",
       "      <th>Country</th>\n",
       "      <th>Resource</th>\n",
       "      <th>Stocks and flows</th>\n",
       "      <th>CLASSE</th>\n",
       "      <th>PowerCode</th>\n",
       "      <th>Unit</th>\n",
       "      <th>Year</th>\n",
       "      <th>Value</th>\n",
       "    </tr>\n",
       "  </thead>\n",
       "  <tbody>\n",
       "    <tr>\n",
       "      <th>count</th>\n",
       "      <td>3476.000000</td>\n",
       "      <td>3476.000000</td>\n",
       "      <td>3476.000000</td>\n",
       "      <td>3476.000000</td>\n",
       "      <td>3476.000000</td>\n",
       "      <td>3476.000000</td>\n",
       "      <td>3476.000000</td>\n",
       "      <td>3476.000000</td>\n",
       "    </tr>\n",
       "    <tr>\n",
       "      <th>mean</th>\n",
       "      <td>1.857883</td>\n",
       "      <td>3.657940</td>\n",
       "      <td>2.325662</td>\n",
       "      <td>0.342348</td>\n",
       "      <td>0.926064</td>\n",
       "      <td>0.671461</td>\n",
       "      <td>2009.189298</td>\n",
       "      <td>410.238774</td>\n",
       "    </tr>\n",
       "    <tr>\n",
       "      <th>std</th>\n",
       "      <td>1.629918</td>\n",
       "      <td>2.475218</td>\n",
       "      <td>1.829679</td>\n",
       "      <td>0.474563</td>\n",
       "      <td>0.833817</td>\n",
       "      <td>0.816169</td>\n",
       "      <td>5.541042</td>\n",
       "      <td>1321.745810</td>\n",
       "    </tr>\n",
       "    <tr>\n",
       "      <th>min</th>\n",
       "      <td>0.000000</td>\n",
       "      <td>0.000000</td>\n",
       "      <td>0.000000</td>\n",
       "      <td>0.000000</td>\n",
       "      <td>0.000000</td>\n",
       "      <td>0.000000</td>\n",
       "      <td>2000.000000</td>\n",
       "      <td>-2642.000000</td>\n",
       "    </tr>\n",
       "    <tr>\n",
       "      <th>25%</th>\n",
       "      <td>1.000000</td>\n",
       "      <td>1.000000</td>\n",
       "      <td>1.000000</td>\n",
       "      <td>0.000000</td>\n",
       "      <td>0.000000</td>\n",
       "      <td>0.000000</td>\n",
       "      <td>2004.000000</td>\n",
       "      <td>0.444750</td>\n",
       "    </tr>\n",
       "    <tr>\n",
       "      <th>50%</th>\n",
       "      <td>2.000000</td>\n",
       "      <td>4.000000</td>\n",
       "      <td>2.000000</td>\n",
       "      <td>0.000000</td>\n",
       "      <td>1.000000</td>\n",
       "      <td>0.000000</td>\n",
       "      <td>2009.000000</td>\n",
       "      <td>4.120000</td>\n",
       "    </tr>\n",
       "    <tr>\n",
       "      <th>75%</th>\n",
       "      <td>2.000000</td>\n",
       "      <td>5.000000</td>\n",
       "      <td>4.000000</td>\n",
       "      <td>1.000000</td>\n",
       "      <td>1.000000</td>\n",
       "      <td>1.000000</td>\n",
       "      <td>2014.000000</td>\n",
       "      <td>68.040250</td>\n",
       "    </tr>\n",
       "    <tr>\n",
       "      <th>max</th>\n",
       "      <td>6.000000</td>\n",
       "      <td>8.000000</td>\n",
       "      <td>8.000000</td>\n",
       "      <td>1.000000</td>\n",
       "      <td>3.000000</td>\n",
       "      <td>2.000000</td>\n",
       "      <td>2019.000000</td>\n",
       "      <td>13446.931000</td>\n",
       "    </tr>\n",
       "  </tbody>\n",
       "</table>\n",
       "</div>"
      ],
      "text/plain": [
       "           Country     Resource  Stocks and flows       CLASSE    PowerCode  \\\n",
       "count  3476.000000  3476.000000       3476.000000  3476.000000  3476.000000   \n",
       "mean      1.857883     3.657940          2.325662     0.342348     0.926064   \n",
       "std       1.629918     2.475218          1.829679     0.474563     0.833817   \n",
       "min       0.000000     0.000000          0.000000     0.000000     0.000000   \n",
       "25%       1.000000     1.000000          1.000000     0.000000     0.000000   \n",
       "50%       2.000000     4.000000          2.000000     0.000000     1.000000   \n",
       "75%       2.000000     5.000000          4.000000     1.000000     1.000000   \n",
       "max       6.000000     8.000000          8.000000     1.000000     3.000000   \n",
       "\n",
       "              Unit         Year         Value  \n",
       "count  3476.000000  3476.000000   3476.000000  \n",
       "mean      0.671461  2009.189298    410.238774  \n",
       "std       0.816169     5.541042   1321.745810  \n",
       "min       0.000000  2000.000000  -2642.000000  \n",
       "25%       0.000000  2004.000000      0.444750  \n",
       "50%       0.000000  2009.000000      4.120000  \n",
       "75%       1.000000  2014.000000     68.040250  \n",
       "max       2.000000  2019.000000  13446.931000  "
      ]
     },
     "execution_count": 280,
     "metadata": {},
     "output_type": "execute_result"
    }
   ],
   "source": [
    "# code for operation\n",
    "df3 = pd.DataFrame(columns= ['Country', 'Resource', 'Stocks and flows', 'CLASSE', 'PowerCode',\n",
    "       'Unit', 'Year', 'Value'] )\n",
    "count = 0\n",
    "for index, rows in df2.iterrows():\n",
    "    if rows[3] == 0 or rows[3] == 1:\n",
    "        count+=1\n",
    "        df3.loc[len(df3.index)] = rows\n",
    "        if count%1000 == 0:\n",
    "            print(count)\n",
    "print(len(df3), len(df2), count)\n",
    "df3.describe()"
   ]
  },
  {
   "cell_type": "code",
   "execution_count": 281,
   "metadata": {
    "id": "NukfqsvqCSgv"
   },
   "outputs": [
    {
     "name": "stdout",
     "output_type": "stream",
     "text": [
      "resource : 0\n",
      "resource : 1\n",
      "resource : 2\n",
      "resource : 3\n",
      "resource : 4\n",
      "resource : 5\n",
      "resource : 6\n",
      "resource : 7\n",
      "resource : 8\n"
     ]
    }
   ],
   "source": [
    "# code for display\n",
    "country_labels = 7\n",
    "resource_labels = 9\n",
    "flow_labels = 9\n",
    "class_labels = 2\n",
    "powercode_labels = 4\n",
    "units_labels = 3\n",
    "\n",
    "res_list = []\n",
    "for res_label in range(resource_labels): \n",
    "    print(\"resource :\", res_label)\n",
    "    class_list = []\n",
    "    for j in range(class_labels):\n",
    "        cls_list = []\n",
    "        list_u = []\n",
    "        for i in range(country_labels):\n",
    "            year_list = []\n",
    "            cou, res, flw,cls = float(i), float(res_label), 0.0, float(j)\n",
    "            for index, rows in df2.iterrows():\n",
    "                if rows[0] == cou and rows[1] == res and rows[2] == flw and rows[3] == cls:\n",
    "                    year_list.append(rows[-2])\n",
    "            list_u.append(sorted(year_list))    \n",
    "        for i in range(len(list_u)):\n",
    "            cls_list.append(len(list_u[i]))\n",
    "        class_list.append(cls_list)\n",
    "    res_list.append(class_list)"
   ]
  },
  {
   "cell_type": "code",
   "execution_count": 283,
   "metadata": {},
   "outputs": [
    {
     "name": "stdout",
     "output_type": "stream",
     "text": [
      "resource  0\n",
      "[17, 0, 20, 0, 0, 0, 0]\n",
      "[0, 20, 0, 0, 0, 0, 0]\n",
      "resource  1\n",
      "[17, 0, 19, 6, 20, 19, 20]\n",
      "[0, 20, 0, 19, 0, 0, 0]\n",
      "resource  2\n",
      "[17, 0, 20, 0, 0, 0, 0]\n",
      "[0, 20, 0, 0, 0, 0, 0]\n",
      "resource  3\n",
      "[17, 0, 20, 0, 0, 0, 0]\n",
      "[0, 20, 0, 0, 0, 0, 0]\n",
      "resource  4\n",
      "[17, 0, 20, 0, 0, 0, 0]\n",
      "[0, 20, 0, 0, 0, 0, 0]\n",
      "resource  5\n",
      "[17, 0, 19, 6, 16, 19, 20]\n",
      "[0, 20, 0, 19, 0, 0, 0]\n",
      "resource  6\n",
      "[17, 0, 9, 0, 0, 0, 0]\n",
      "[0, 20, 0, 0, 0, 0, 0]\n",
      "resource  7\n",
      "[17, 0, 20, 0, 0, 0, 0]\n",
      "[0, 20, 0, 0, 0, 0, 0]\n",
      "resource  8\n",
      "[17, 0, 20, 0, 0, 0, 0]\n",
      "[0, 20, 0, 0, 0, 0, 0]\n"
     ]
    }
   ],
   "source": [
    "count = 0 \n",
    "for i in res_list:\n",
    "    print(\"resource \", count )\n",
    "    for j in i:\n",
    "        print(j)\n",
    "    count+=1"
   ]
  },
  {
   "cell_type": "markdown",
   "metadata": {
    "id": "y11-NUC6B6dS"
   },
   "source": [
    "**4.7 Method 7**\n",
    "\n",
    "#### operation name:   Visualizing the Discrepencies happening in stock as they have to be reduced and contribute heavily\n",
    "#### Reason for doing this: To know where to implement the conservation techniques from the plot.\n",
    "#### Outcome: Disparencies in the year 2017 and 2016 are very high and reduced after that."
   ]
  },
  {
   "cell_type": "code",
   "execution_count": 290,
   "metadata": {
    "id": "hGVCu0p3CMci"
   },
   "outputs": [
    {
     "name": "stdout",
     "output_type": "stream",
     "text": [
      "625 3476 625\n",
      "   Country  Resource  Stocks and flows  CLASSE  PowerCode  Unit    Year  Value\n",
      "0      1.0       0.0               1.0     1.0        0.0   0.0  2017.0   0.30\n",
      "1      1.0       0.0               1.0     1.0        0.0   0.0  2016.0   0.40\n",
      "2      1.0       0.0               1.0     1.0        0.0   0.0  2015.0  -0.30\n",
      "3      1.0       0.0               1.0     1.0        0.0   0.0  2014.0  -0.75\n",
      "4      1.0       0.0               1.0     1.0        0.0   0.0  2013.0   1.95\n",
      "{2017.0: 3282.806000000001, 2016.0: 2211.552, 2015.0: 1589.822, 2014.0: 643.9960000000001, 2013.0: 821.3499999999999, 2012.0: 1426.403, 2011.0: 2158.987, 2009.0: 1835.867, 2019.0: 848.406, 2018.0: 2781.3790000000004, 2010.0: 2579.1920000000014, 2001.0: 1863.3500000000001, 2002.0: 1306.2950000000005, 2003.0: 1383.4340000000002, 2004.0: -2392.8650000000002, 2000.0: 1111.95, 2007.0: 1424.5560000000003, 2005.0: 1026.6250000000002, 2008.0: 2110.1599999999994, 2006.0: 1105.6380000000004}\n"
     ]
    }
   ],
   "source": [
    "# code for operation\n",
    "df4 = pd.DataFrame(columns= ['Country', 'Resource', 'Stocks and flows', 'CLASSE', 'PowerCode',\n",
    "       'Unit', 'Year', 'Value'] )\n",
    "\n",
    "count = 0\n",
    "for index, rows in df3.iterrows():\n",
    "    if rows[2] == 1:\n",
    "        count+=1\n",
    "        df4.loc[len(df4.index)] = rows\n",
    "        if count%1000 == 0:\n",
    "            print(count)\n",
    "print(len(df4), len(df3), count)\n",
    "print(df4.head())\n",
    "\n",
    "year_dict = {}\n",
    "for index, rows in df4.iterrows():\n",
    "    if rows[6] not in year_dict:\n",
    "        year_dict[rows[6]] = rows[7]\n",
    "    else:\n",
    "        year_dict[rows[6]] += rows[7]\n",
    "print(year_dict)"
   ]
  },
  {
   "cell_type": "code",
   "execution_count": 294,
   "metadata": {
    "id": "1V1_R5otCTWY"
   },
   "outputs": [
    {
     "data": {
      "text/plain": [
       "<AxesSubplot:xlabel='Year', ylabel='Value'>"
      ]
     },
     "execution_count": 294,
     "metadata": {},
     "output_type": "execute_result"
    },
    {
     "data": {
      "image/png": "[encoded data removed]",
      "text/plain": [
       "<Figure size 432x288 with 1 Axes>"
      ]
     },
     "metadata": {
      "needs_background": "light"
     },
     "output_type": "display_data"
    }
   ],
   "source": [
    "# code for display\n",
    "\n",
    "import seaborn as sns\n",
    "sns.scatterplot(x = 'Year', y = 'Value', data = df4)"
   ]
  },
  {
   "cell_type": "markdown",
   "metadata": {
    "id": "gEXlAfkxB6uX"
   },
   "source": [
    "**4.8 Method 8**\n",
    "\n",
    "#### operation name:\n",
    "#### Reason for doing this:\n",
    "#### Outcome:"
   ]
  },
  {
   "cell_type": "code",
   "execution_count": null,
   "metadata": {
    "id": "8fbihV1cCNKN"
   },
   "outputs": [],
   "source": [
    "# code for operation"
   ]
  },
  {
   "cell_type": "code",
   "execution_count": null,
   "metadata": {
    "id": "oYt42tfzCUK8"
   },
   "outputs": [],
   "source": [
    "# code for display"
   ]
  },
  {
   "cell_type": "markdown",
   "metadata": {
    "id": "xHcMNoioB69G"
   },
   "source": [
    "**4.9 Method 9**\n",
    "\n",
    "#### operation name:\n",
    "#### Reason for doing this:\n",
    "#### Outcome:"
   ]
  },
  {
   "cell_type": "code",
   "execution_count": null,
   "metadata": {
    "id": "TuqBLH_xCN01"
   },
   "outputs": [],
   "source": [
    "# code for operation"
   ]
  },
  {
   "cell_type": "code",
   "execution_count": null,
   "metadata": {
    "id": "XWNPOohQCU9y"
   },
   "outputs": [],
   "source": [
    "# code for display"
   ]
  },
  {
   "cell_type": "markdown",
   "metadata": {
    "id": "9907rZFAB7LX"
   },
   "source": [
    "**4.10 Method 10**\n",
    "\n",
    "#### operation name:\n",
    "#### Reason for doing this:\n",
    "#### Outcome:"
   ]
  },
  {
   "cell_type": "code",
   "execution_count": null,
   "metadata": {
    "id": "hSG-Cw32COdk"
   },
   "outputs": [],
   "source": [
    "# code for operation"
   ]
  },
  {
   "cell_type": "code",
   "execution_count": null,
   "metadata": {
    "id": "kqYXkVwwCVnH"
   },
   "outputs": [],
   "source": [
    "# code for display"
   ]
  },
  {
   "cell_type": "markdown",
   "metadata": {
    "id": "eaDWN21SvpXc"
   },
   "source": [
    "### Submission guideline:\n",
    "1. write your code and report in this notebook. \n",
    "2. save this notebook as <person1ubname_person2ubname.ipynb>.\n",
    "3. save your raw data in data folder.\n",
    "4. save the notebook file with data folder in a folder named <person1ubname_person2ubname.zip>. \n",
    "5. upload your zip file to the ub learns.\n",
    "\n",
    "**Each person from a team needs to make submissions.**"
   ]
  },
  {
   "cell_type": "markdown",
   "metadata": {
    "id": "EKhTnH90vyGU"
   },
   "source": [
    "### Grading:\n",
    "    0 – no submission by deadline\n",
    "    5 – with 0-3 valid and non-repeating EDA operations;\n",
    "    10 – with 4-8 valid and non-repeating EDA operations;\n",
    "    15 – with 9 valid and non-repeating EDA operations;\n",
    "    20 - with 10 valid and non-repeating EDA operations;\n",
    "    25 - Completely master EDA and every step is perfect;\n",
    "    \n",
    "Once the deadline is past, you get a zero for the phase if you did not submit anything, even though you need to complete the phase to work on the next phase.\n"
   ]
  }
 ],
 "metadata": {
  "colab": {
   "collapsed_sections": [],
   "name": "phase2.ipynb",
   "provenance": [],
   "toc_visible": true
  },
  "kernelspec": {
   "display_name": "Python 3",
   "language": "python",
   "name": "python3"
  },
  "language_info": {
   "codemirror_mode": {
    "name": "ipython",
    "version": 3
   },
   "file_extension": ".py",
   "mimetype": "text/x-python",
   "name": "python",
   "nbconvert_exporter": "python",
   "pygments_lexer": "ipython3",
   "version": "3.9.1"
  }
 },
 "nbformat": 4,
 "nbformat_minor": 1
}
