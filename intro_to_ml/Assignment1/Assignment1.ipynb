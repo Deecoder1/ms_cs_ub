{
 "cells": [
  {
   "cell_type": "markdown",
   "id": "canadian-philadelphia",
   "metadata": {
    "id": "canadian-philadelphia"
   },
   "source": [
    "#### For this Assignment you have been given a data which is a subset of a bigger dataset which was collected by Buffalo Tax department. It contains information regarding the various properties in Buffalo.\n",
    "\n",
    "Number of Instances: 92508\n",
    "\n",
    "Number of Attributes: 16 (including the target variable)\n",
    "\n",
    "Attribute Information:\n",
    "\n",
    "| Column Name                | Description                                                                                                                                      | Type        |\n",
    "|----------------------------|--------------------------------------------------------------------------------------------------------------------------------------------------|-------------|\n",
    "| TOTAL VALUE                | The combined assessed value of the land and improvements on the parcel                                                                           | Number      |\n",
    "| FRONT                      | The width of the front of property (in feet)                                                                                                     | Number      |\n",
    "| DEPTH                      | The depth of the property (in feet)                                                                                                              | Number      |\n",
    "| PROPERTY CLASS             | Property Type Classification Codes describe the primary use of each parcel of real property on the assessment roll                               | Number      |\n",
    "| LAND VALUE                 | The assessed value of the land                                                                                                                   | Number      |\n",
    "| SALE PRICE                 | The price that the parcel of real property was last sold for                                                                                     | Number      |\n",
    "| YEAR BUILT                 | The year the primary building on the parcel was built                                                                                            | Number      |\n",
    "| TOTAL LIVING AREA          | The amount of living space (in square feet)                                                                                                      | Number      |\n",
    "| OVERALL CONDITION          | A grade of the condition of the property                                                                                                         | Number      |\n",
    "| BUILDING STYLE             | A code for the style of building                                                                                                                 | Number      |\n",
    "| HEAT TYPE                  | The type of heating system in the building (only applicable to residential properties)                                                           | Number      |\n",
    "| BASEMENT TYPE              | The type of basement on the property (only applicable to residential properties)                                                                 | Number      |\n",
    "| # OF STORIES               | The number of floors/Stories in the property                                                                                                     | Number      |\n",
    "| # OF FIREPLACES            | The number of fireplaces in a dwelling (only applicable to residential properties)                                                               | Number      |\n",
    "| # OF BEDS                  | The number of beds in a dwelling (only applicable to residential properties)                                                                     | Number      |\n",
    "| # OF BATHS                 | The number of baths in a dwelling (only applicable to residential properties)                                                                    | Number      |\n",
    "| # OF KITCHENS              | The number of kitchens in a dwelling (only applicable to residential properties)                                                                 | Number      |\n",
    "\n",
    "\n",
    "\n",
    "There are no missing Attribute Values.\n",
    "\n",
    "Your task is to implement a Linear Regression Model to predict the TOTAL VALUE of a property"
   ]
  },
  {
   "cell_type": "code",
   "execution_count": 1,
   "id": "planned-perry",
   "metadata": {
    "id": "planned-perry"
   },
   "outputs": [],
   "source": [
    "import pandas as pd\n",
    "import numpy as np\n",
    "from sklearn.model_selection import train_test_split\n",
    "from sklearn import metrics\n",
    "import matplotlib.pyplot as plt\n",
    "\n",
    "%matplotlib inline"
   ]
  },
  {
   "cell_type": "markdown",
   "id": "traditional-tissue",
   "metadata": {
    "id": "traditional-tissue"
   },
   "source": [
    "#### STEP 1 - Load Data (Already Done)"
   ]
  },
  {
   "cell_type": "code",
   "execution_count": 2,
   "id": "measured-report",
   "metadata": {
    "id": "measured-report"
   },
   "outputs": [],
   "source": [
    "df = pd.read_csv('data.csv', dtype=np.float64)"
   ]
  },
  {
   "cell_type": "code",
   "execution_count": 3,
   "id": "preliminary-wireless",
   "metadata": {
    "id": "preliminary-wireless"
   },
   "outputs": [],
   "source": [
    "y = np.asarray(df['TOTAL VALUE'] )\n",
    "y = y.reshape(y.shape[0],1)\n",
    "feature_cols = df.columns.to_list()\n",
    "feature_cols.remove('TOTAL VALUE')\n",
    "x = np.asarray(df[feature_cols])"
   ]
  },
  {
   "cell_type": "markdown",
   "id": "twelve-skill",
   "metadata": {
    "id": "twelve-skill"
   },
   "source": [
    "#### STEP 2 - Split the Data into training and testing and validation split ( 70% Training, 20% Testing and 10% validation) ( Hint: you can use the sklearn library for this step only) ( 5 Points)"
   ]
  },
  {
   "cell_type": "markdown",
   "id": "available-picnic",
   "metadata": {
    "id": "available-picnic"
   },
   "source": [
    "Variable **y** contains the total values of the property\n",
    "\n",
    "Variable **x** contains the features"
   ]
  },
  {
   "cell_type": "code",
   "execution_count": 4,
   "id": "downtown-antarctica",
   "metadata": {
    "id": "downtown-antarctica"
   },
   "outputs": [],
   "source": [
    "#STEP 2\n",
    "X_train, X_test, y_train, y_test = train_test_split(x, y, test_size=0.3, random_state=1)\n",
    "X_test, X_cv, y_test, y_cv = train_test_split(X_test, y_test, test_size=0.3333, random_state=1)"
   ]
  },
  {
   "cell_type": "markdown",
   "id": "theoretical-allergy",
   "metadata": {
    "id": "theoretical-allergy"
   },
   "source": [
    "#### STEP 3 - Scale Data Using Min Max Scaler (10 Points)\n",
    "For each feature scaled value can be calculated using $  x_{scaled} = \\frac{x - min(x)}{max(x) - min(x)}$\n"
   ]
  },
  {
   "cell_type": "code",
   "execution_count": 5,
   "id": "stock-certification",
   "metadata": {},
   "outputs": [],
   "source": [
    "X_train_scales = np.zeros(np.shape(X_train))\n",
    "minInColumns = np.amin(X_train, axis=0)\n",
    "maxInColumns = np.amax(X_train, axis=0)\n",
    "for i in range(len(X_train)):\n",
    "    for j in range(len(X_train[0])):\n",
    "        X_train_scales[i][j] = (X_train[i][j]- minInColumns[j])/(maxInColumns[j] - minInColumns[j])"
   ]
  },
  {
   "cell_type": "code",
   "execution_count": 6,
   "id": "unusual-helena",
   "metadata": {},
   "outputs": [],
   "source": [
    "#STEP 4\n",
    "import random\n",
    "learning_rate = 0.0001 \n",
    "no_of_epochs = 500  #The number of iterations to be 500\n",
    "weights = np.zeros((15,1))    #Initializing the weights to zero\n",
    "b = 0 #Initializing bias to zero"
   ]
  },
  {
   "cell_type": "markdown",
   "id": "applied-hawaii",
   "metadata": {},
   "source": [
    "#### STEP 5 - Train Linear Regression Model (40 Points)\n",
    " 5.1 Start a Loop For each Epoch\n",
    " \n",
    " 5.2 Find the predicted value using $ y(x,w) = w_0 + w_1x $ for the training and validation splits (10 Points)\n",
    " \n",
    " 5.3 Find the Loss using Mean Squared Error for the training and validation splits and store in a list (10 Points)\n",
    " \n",
    " 5.4 Calculate the Gradients (15 Points)\n",
    " \n",
    " 5.5 Update the weights using the gradients (5 Points)"
   ]
  },
  {
   "cell_type": "code",
   "execution_count": 7,
   "id": "passing-completion",
   "metadata": {},
   "outputs": [
    {
     "name": "stdout",
     "output_type": "stream",
     "text": [
      "[[  30.33773206]\n",
      " [  98.98051606]\n",
      " [3388.23610401]\n",
      " [ 427.70784182]\n",
      " [  97.55172634]\n",
      " [3726.59687453]\n",
      " [ 692.50812329]\n",
      " [2662.16302945]\n",
      " [1861.30927879]\n",
      " [2478.83963037]\n",
      " [3732.44656563]\n",
      " [ 211.10933799]\n",
      " [1376.06577983]\n",
      " [1040.66543017]\n",
      " [1983.92913283]] 10408.72854872959\n"
     ]
    }
   ],
   "source": [
    "cv_plot =[]\n",
    "train_plot = []\n",
    "x_tran = np.transpose(X_train_scales)\n",
    "for i in range(no_of_epochs):\n",
    "    Y_pred = b + X_train_scales.dot(weights)\n",
    "    dW = - ( 2 * ( x_tran ).dot( y_train - Y_pred )  ) / len(X_train)\n",
    "    db = - 2 * np.sum( y_train - Y_pred ) / len(X_train) \n",
    "    weights = weights - learning_rate * dW\n",
    "    b = b -learning_rate * db \n",
    "    Y_cv_pred = b + X_cv.dot(weights)                 # Predicting using CV dataset  \n",
    "    cv_plot.append(metrics.mean_squared_error(y_cv, Y_cv_pred))                                 # Creating array for CV loss\n",
    "    train_plot.append(metrics.mean_squared_error(y_train, Y_pred))                              # Creating array for Train loss\n",
    "print(weights , b)"
   ]
  },
  {
   "cell_type": "code",
   "execution_count": 8,
   "id": "vertical-touch",
   "metadata": {},
   "outputs": [],
   "source": [
    "X_test_scales = np.zeros(np.shape(X_test))\n",
    "minInColumns = np.amin(X_test, axis=0)\n",
    "maxInColumns = np.amax(X_test, axis=0)\n",
    "for i in range(len(X_test)):\n",
    "    for j in range(len(X_test[0])):\n",
    "        X_test_scales[i][j] = (X_test[i][j]- minInColumns[j])/(maxInColumns[j] - minInColumns[j])"
   ]
  },
  {
   "cell_type": "code",
   "execution_count": 9,
   "id": "functional-brake",
   "metadata": {},
   "outputs": [],
   "source": [
    "Y_test_pred = b+ X_test.dot(weights)"
   ]
  },
  {
   "cell_type": "code",
   "execution_count": 10,
   "id": "solar-sender",
   "metadata": {},
   "outputs": [
    {
     "data": {
      "text/plain": [
       "4001538722658172.5"
      ]
     },
     "execution_count": 10,
     "metadata": {},
     "output_type": "execute_result"
    }
   ],
   "source": [
    "metrics.mean_squared_error(y_test, Y_test_pred)"
   ]
  },
  {
   "cell_type": "markdown",
   "id": "renewable-fireplace",
   "metadata": {},
   "source": [
    "#### STEP 6 - Evaluate the Model ( 25 Points)\n",
    "6.1 Plot a graph of the Training and Validation Loss wrt epochs (10 Points)\n",
    "\n",
    "6.2 Find the R2 Score of the trained model for the Train, Test and Validation splits (15 Points)"
   ]
  },
  {
   "cell_type": "code",
   "execution_count": 11,
   "id": "reduced-hazard",
   "metadata": {},
   "outputs": [
    {
     "name": "stdout",
     "output_type": "stream",
     "text": [
      "R2 score for test data set:  -5926.719591056363\n",
      "R2 score for train data set:  -0.004194860263434741\n",
      "R2 score for cross validation data set:  -9435.020113792118\n"
     ]
    }
   ],
   "source": [
    "print(\"R2 score for test data set: \",metrics.r2_score(y_test, Y_test_pred))\n",
    "print(\"R2 score for train data set: \",metrics.r2_score(y_train, Y_pred))\n",
    "print(\"R2 score for cross validation data set: \",metrics.r2_score(y_cv, Y_cv_pred))"
   ]
  },
  {
   "cell_type": "code",
   "execution_count": 12,
   "id": "parental-edmonton",
   "metadata": {
    "scrolled": true
   },
   "outputs": [
    {
     "data": {
      "image/png": "[encoded data removed]",
      "text/plain": [
       "<Figure size 432x288 with 1 Axes>"
      ]
     },
     "metadata": {
      "needs_background": "light"
     },
     "output_type": "display_data"
    }
   ],
   "source": [
    "x = range(1,501)\n",
    "#plt.plot(x, cv_plot)\n",
    "plt.plot(x, train_plot)\n",
    "plt.title(\"Training Loss vs Epochs\")\n",
    "plt.xlabel(\"Epochs\")\n",
    "plt.ylabel(\"Loss\")\n",
    "plt.show()\n"
   ]
  },
  {
   "cell_type": "code",
   "execution_count": 13,
   "id": "growing-theater",
   "metadata": {},
   "outputs": [
    {
     "data": {
      "image/png": "[encoded data removed]",
      "text/plain": [
       "<Figure size 432x288 with 1 Axes>"
      ]
     },
     "metadata": {
      "needs_background": "light"
     },
     "output_type": "display_data"
    }
   ],
   "source": [
    "plt.plot(x, cv_plot)\n",
    "plt.title(\"Cross validation data Loss vs Epochs\")\n",
    "plt.xlabel(\"Epochs\")\n",
    "plt.ylabel(\" Loss\")\n",
    "plt.show()"
   ]
  }
 ],
 "metadata": {
  "colab": {
   "name": "main.ipynb",
   "provenance": []
  },
  "kernelspec": {
   "display_name": "Python 3",
   "language": "python",
   "name": "python3"
  },
  "language_info": {
   "codemirror_mode": {
    "name": "ipython",
    "version": 3
   },
   "file_extension": ".py",
   "mimetype": "text/x-python",
   "name": "python",
   "nbconvert_exporter": "python",
   "pygments_lexer": "ipython3",
   "version": "3.9.1"
  }
 },
 "nbformat": 4,
 "nbformat_minor": 5
}
